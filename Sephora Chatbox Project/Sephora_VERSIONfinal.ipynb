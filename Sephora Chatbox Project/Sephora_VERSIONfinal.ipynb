{
 "cells": [
  {
   "cell_type": "code",
   "execution_count": 2,
   "metadata": {
    "colab": {
     "base_uri": "https://localhost:8080/"
    },
    "id": "rgxheEDqIViR",
    "outputId": "d7d345af-c5f3-4d7e-c0e6-bdae541061fa"
   },
   "outputs": [
    {
     "name": "stdout",
     "output_type": "stream",
     "text": [
      "Hello! I'm Sephora's virtual lipstick assistant, you can call me Sophia.\n",
      "What shall I call you? e\n",
      "Hello, e! How's your day going so far?g'\n"
     ]
    }
   ],
   "source": [
    "def tokenize_reply(reply):\n",
    "    # Use blank to tokenize\n",
    "    tokens = reply.split()\n",
    "\n",
    "    if len(tokens) == 1:\n",
    "        # if the reply is only one word, use it as name\n",
    "        return tokens[0]\n",
    "    else:\n",
    "        # find key word and use the word after it as name\n",
    "        keywords = ['me', 'is', \"it's\", 'am', \"I'm\"]\n",
    "        for i, token in enumerate(tokens):\n",
    "            if token.lower() in keywords and i < len(tokens) - 1:\n",
    "                return tokens[i+1]\n",
    "    return None\n",
    "\n",
    "def lipstick_assistant():\n",
    "    print(\"Hello! I'm Sephora's virtual lipstick assistant, you can call me Sophia.\")\n",
    "    customer_name = input(\"What shall I call you? \")\n",
    "    customer_name = tokenize_reply(customer_name)\n",
    "    input(f\"Hello, {customer_name}! How's your day going so far?\")\n",
    "\n",
    "lipstick_assistant()\n"
   ]
  },
  {
   "cell_type": "code",
   "execution_count": 19,
   "metadata": {
    "colab": {
     "base_uri": "https://localhost:8080/"
    },
    "id": "-vUVSuYzRDcW",
    "outputId": "f444f1bd-7e22-437a-c5f8-914f136d95f6"
   },
   "outputs": [
    {
     "name": "stdout",
     "output_type": "stream",
     "text": [
      "{'products': [{'brandName': 'Charlotte Tilbury', 'currentSku': {'imageAltText': 'Charlotte Tilbury - K.I.S.S.I.N.G Satin Shine Lipstick', 'isAppExclusive': False, 'isBI': False, 'isBest': False, 'isFirstAccess': False, 'isLimitedEdition': False, 'isLimitedTimeOffer': False, 'isNatural': False, 'isNew': True, 'isOnlineOnly': False, 'isOrganic': False, 'isSephoraExclusive': False, 'listPrice': '$35.00 - $38.00', 'skuId': '2765600', 'skuType': 'Standard'}, 'displayName': 'K.I.S.S.I.N.G Satin Shine Lipstick', 'heroImage': 'https://www.sephora.com/productimages/sku/s2765600-main-zoom.jpg?imwidth=270', 'image135': 'https://www.sephora.com/productimages/sku/s2765600-main-zoom.jpg?imwidth=270', 'image250': 'https://www.sephora.com/productimages/sku/s2765600-main-zoom.jpg?imwidth=270', 'image450': 'https://www.sephora.com/productimages/sku/s2765600-main-zoom.jpg?imwidth=270', 'altImage': 'https://www.sephora.com/productimages/sku/s2765600-av-2-zoom.jpg?imwidth=270', 'moreColors': 21, 'onSaleData': 'NONE', 'pickupEligible': False, 'productId': 'P433531', 'productName': 'K.I.S.S.I.N.G Satin Shine Lipstick', 'rating': '4.11', 'reviews': '691', 'sameDayEligible': False, 'shipToHomeEligible': False, 'targetUrl': 'https://www.sephora.com/product/k-i-s-s-i-n-g-lipstick-P433531?skuId=2765600', 'sponsored': False}, {'brandName': 'MERIT', 'currentSku': {'imageAltText': 'MERIT - Signature Lip Lightweight Matte Lipstick', 'isAppExclusive': False, 'isBI': False, 'isBest': False, 'isFirstAccess': False, 'isLimitedEdition': False, 'isLimitedTimeOffer': False, 'isNatural': False, 'isNew': True, 'isOnlineOnly': False, 'isOrganic': False, 'isSephoraExclusive': True, 'listPrice': '$26.00', 'skuId': '2759793', 'skuType': 'Standard'}, 'displayName': 'Signature Lip Lightweight Matte Lipstick', 'heroImage': 'https://www.sephora.com/productimages/sku/s2759793-main-zoom.jpg?imwidth=270&pb=clean-at-sephora', 'image135': 'https://www.sephora.com/productimages/sku/s2759793-main-zoom.jpg?imwidth=270&pb=clean-at-sephora', 'image250': 'https://www.sephora.com/productimages/sku/s2759793-main-zoom.jpg?imwidth=270&pb=clean-at-sephora', 'image450': 'https://www.sephora.com/productimages/sku/s2759793-main-zoom.jpg?imwidth=270&pb=clean-at-sephora', 'altImage': 'https://www.sephora.com/productimages/sku/s2759793-av-10-zoom.jpg?imwidth=270', 'moreColors': 7, 'onSaleData': 'NONE', 'pickupEligible': False, 'productId': 'P510442', 'productName': 'Signature Lip Lightweight Matte Lipstick', 'rating': '4.8671', 'reviews': '557', 'sameDayEligible': False, 'shipToHomeEligible': False, 'targetUrl': 'https://www.sephora.com/product/merit-signature-lip-lightweight-matte-lipstick-P510442?skuId=2759793', 'sponsored': False}, {'brandName': 'NARS', 'currentSku': {'imageAltText': 'NARS - Powermatte Long-Lasting Lipstick', 'isAppExclusive': False, 'isBI': False, 'isBest': False, 'isFirstAccess': False, 'isLimitedEdition': False, 'isLimitedTimeOffer': False, 'isNatural': False, 'isNew': True, 'isOnlineOnly': False, 'isOrganic': False, 'isSephoraExclusive': False, 'listPrice': '$34.00', 'valuePrice': '$34.00', 'skuId': '2756088', 'skuType': 'Standard'}, 'displayName': 'Powermatte Long-Lasting Lipstick', 'heroImage': 'https://www.sephora.com/productimages/sku/s2756088-main-zoom.jpg?imwidth=270', 'image135': 'https://www.sephora.com/productimages/sku/s2756088-main-zoom.jpg?imwidth=270', 'image250': 'https://www.sephora.com/productimages/sku/s2756088-main-zoom.jpg?imwidth=270', 'image450': 'https://www.sephora.com/productimages/sku/s2756088-main-zoom.jpg?imwidth=270', 'altImage': 'https://www.sephora.com/productimages/sku/s2756088-av-2-zoom.jpg?imwidth=270', 'moreColors': 17, 'onSaleData': 'NONE', 'pickupEligible': False, 'productId': 'P501583', 'productName': 'Powermatte Long-Lasting Lipstick', 'rating': '4.3531', 'reviews': '320', 'sameDayEligible': False, 'shipToHomeEligible': False, 'targetUrl': 'https://www.sephora.com/product/nars-powermatte-lipstick-P501583?skuId=2756088', 'sponsored': False}, {'brandName': 'Yves Saint Laurent', 'currentSku': {'imageAltText': 'Yves Saint Laurent - YSL Loveshine Lip Oil Stick', 'isAppExclusive': False, 'isBI': False, 'isBest': False, 'isFirstAccess': False, 'isLimitedEdition': False, 'isLimitedTimeOffer': False, 'isNatural': False, 'isNew': True, 'isOnlineOnly': False, 'isOrganic': False, 'isSephoraExclusive': False, 'listPrice': '$45.00', 'skuId': '2751592', 'skuType': 'Standard'}, 'displayName': 'YSL Loveshine Lip Oil Stick', 'heroImage': 'https://www.sephora.com/productimages/sku/s2751592-main-zoom.jpg?imwidth=270', 'image135': 'https://www.sephora.com/productimages/sku/s2751592-main-zoom.jpg?imwidth=270', 'image250': 'https://www.sephora.com/productimages/sku/s2751592-main-zoom.jpg?imwidth=270', 'image450': 'https://www.sephora.com/productimages/sku/s2751592-main-zoom.jpg?imwidth=270', 'altImage': 'https://www.sephora.com/productimages/sku/s2751592-av-2-zoom.jpg?imwidth=270', 'moreColors': 14, 'onSaleData': 'NONE', 'pickupEligible': False, 'productId': 'P377710', 'productName': 'YSL Loveshine Lip Oil Stick', 'rating': '4.6017', 'reviews': '1087', 'sameDayEligible': False, 'shipToHomeEligible': False, 'targetUrl': 'https://www.sephora.com/product/love-shine-lip-oil-stick-P377710?skuId=2751592', 'sponsored': False}, {'brandName': 'Gucci', 'currentSku': {'imageAltText': 'Gucci - Velvet Matte Lipstick', 'isAppExclusive': False, 'isBI': False, 'isBest': False, 'isFirstAccess': False, 'isLimitedEdition': False, 'isLimitedTimeOffer': False, 'isNatural': False, 'isNew': True, 'isOnlineOnly': False, 'isOrganic': False, 'isSephoraExclusive': False, 'listPrice': '$47.00', 'skuId': '2749372', 'skuType': 'Standard'}, 'displayName': 'Velvet Matte Lipstick', 'heroImage': 'https://www.sephora.com/productimages/sku/s2749372-main-zoom.jpg?imwidth=270', 'image135': 'https://www.sephora.com/productimages/sku/s2749372-main-zoom.jpg?imwidth=270', 'image250': 'https://www.sephora.com/productimages/sku/s2749372-main-zoom.jpg?imwidth=270', 'image450': 'https://www.sephora.com/productimages/sku/s2749372-main-zoom.jpg?imwidth=270', 'altImage': 'https://www.sephora.com/productimages/sku/s2749372-av-2-zoom.jpg?imwidth=270', 'moreColors': 29, 'onSaleData': 'NONE', 'pickupEligible': False, 'productId': 'P453273', 'productName': 'Velvet Matte Lipstick', 'rating': '4.1506', 'reviews': '312', 'sameDayEligible': False, 'shipToHomeEligible': False, 'targetUrl': 'https://www.sephora.com/product/gucci-gucci-rouge-a-levres-mat-matte-lipstick-P453273?skuId=2749372', 'sponsored': False}, {'brandName': 'Givenchy', 'currentSku': {'imageAltText': 'Givenchy - Rouge Interdit Intense Silk Satin Matte Lipstick', 'isAppExclusive': False, 'isBI': False, 'isBest': False, 'isFirstAccess': False, 'isLimitedEdition': False, 'isLimitedTimeOffer': False, 'isNatural': False, 'isNew': True, 'isOnlineOnly': False, 'isOrganic': False, 'isSephoraExclusive': False, 'listPrice': '$33.00 - $44.00', 'skuId': '2749513', 'skuType': 'Standard'}, 'displayName': 'Rouge Interdit Intense Silk Satin Matte Lipstick', 'heroImage': 'https://www.sephora.com/productimages/sku/s2749513-main-zoom.jpg?imwidth=270', 'image135': 'https://www.sephora.com/productimages/sku/s2749513-main-zoom.jpg?imwidth=270', 'image250': 'https://www.sephora.com/productimages/sku/s2749513-main-zoom.jpg?imwidth=270', 'image450': 'https://www.sephora.com/productimages/sku/s2749513-main-zoom.jpg?imwidth=270', 'altImage': 'https://www.sephora.com/productimages/sku/s2749513-av-9-zoom.jpg?imwidth=270', 'moreColors': 24, 'onSaleData': 'NONE', 'pickupEligible': False, 'productId': 'P377755', 'productName': 'Rouge Interdit Intense Silk Satin Matte Lipstick', 'rating': '4.5768', 'reviews': '267', 'sameDayEligible': False, 'shipToHomeEligible': False, 'targetUrl': 'https://www.sephora.com/product/le-rouge-P377755?skuId=2749513', 'sponsored': False}, {'brandName': 'tarte', 'currentSku': {'imageAltText': 'tarte - maracuja juicy lip vinyl', 'isAppExclusive': False, 'isBI': False, 'isBest': False, 'isFirstAccess': False, 'isLimitedEdition': False, 'isLimitedTimeOffer': False, 'isNatural': False, 'isNew': True, 'isOnlineOnly': False, 'isOrganic': False, 'isSephoraExclusive': False, 'listPrice': '$26.00', 'skuId': '2737112', 'skuType': 'Standard'}, 'displayName': 'maracuja juicy lip vinyl', 'heroImage': 'https://www.sephora.com/productimages/sku/s2737112-main-zoom.jpg?imwidth=270', 'image135': 'https://www.sephora.com/productimages/sku/s2737112-main-zoom.jpg?imwidth=270', 'image250': 'https://www.sephora.com/productimages/sku/s2737112-main-zoom.jpg?imwidth=270', 'image450': 'https://www.sephora.com/productimages/sku/s2737112-main-zoom.jpg?imwidth=270', 'altImage': 'https://www.sephora.com/productimages/sku/s2737112-av-2-zoom.jpg?imwidth=270', 'moreColors': 15, 'onSaleData': 'NONE', 'pickupEligible': False, 'productId': 'P509396', 'productName': 'maracuja juicy lip vinyl', 'rating': '4.5', 'reviews': '90', 'sameDayEligible': False, 'shipToHomeEligible': False, 'targetUrl': 'https://www.sephora.com/product/tarte-maracuja-juicy-lip-vinyl-P509396?skuId=2737112', 'sponsored': False}, {'brandName': 'Gucci', 'currentSku': {'imageAltText': 'Gucci - Long Lasting Satin Lipstick', 'isAppExclusive': False, 'isBI': False, 'isBest': False, 'isFirstAccess': False, 'isLimitedEdition': False, 'isLimitedTimeOffer': False, 'isNatural': False, 'isNew': True, 'isOnlineOnly': True, 'isOrganic': False, 'isSephoraExclusive': False, 'listPrice': '$45.00 - $47.00', 'skuId': '2749489', 'skuType': 'Standard'}, 'displayName': 'Long Lasting Satin Lipstick', 'heroImage': 'https://www.sephora.com/productimages/sku/s2749489-main-zoom.jpg?imwidth=270', 'image135': 'https://www.sephora.com/productimages/sku/s2749489-main-zoom.jpg?imwidth=270', 'image250': 'https://www.sephora.com/productimages/sku/s2749489-main-zoom.jpg?imwidth=270', 'image450': 'https://www.sephora.com/productimages/sku/s2749489-main-zoom.jpg?imwidth=270', 'altImage': 'https://www.sephora.com/productimages/sku/s2749489-av-1-zoom.jpg?imwidth=270', 'moreColors': 21, 'onSaleData': 'NONE', 'pickupEligible': False, 'productId': 'P452736', 'productName': 'Long Lasting Satin Lipstick', 'rating': '4.3465', 'reviews': '381', 'sameDayEligible': False, 'shipToHomeEligible': False, 'targetUrl': 'https://www.sephora.com/product/gucci-rouge-agrave-l-egrave-vres-satin-lipstick-P452736?skuId=2749489', 'sponsored': False}, {'brandName': 'Bobbi Brown', 'currentSku': {'imageAltText': 'Bobbi Brown - Luxe Lipstick', 'isAppExclusive': False, 'isBI': False, 'isBest': False, 'isFirstAccess': False, 'isLimitedEdition': False, 'isLimitedTimeOffer': False, 'isNatural': False, 'isNew': True, 'isOnlineOnly': False, 'isOrganic': False, 'isSephoraExclusive': False, 'listPrice': '$43.00', 'skuId': '2769081', 'skuType': 'Standard'}, 'displayName': 'Luxe Lipstick', 'heroImage': 'https://www.sephora.com/productimages/sku/s2769081-main-zoom.jpg?imwidth=270', 'image135': 'https://www.sephora.com/productimages/sku/s2769081-main-zoom.jpg?imwidth=270', 'image250': 'https://www.sephora.com/productimages/sku/s2769081-main-zoom.jpg?imwidth=270', 'image450': 'https://www.sephora.com/productimages/sku/s2769081-main-zoom.jpg?imwidth=270', 'altImage': 'https://www.sephora.com/productimages/sku/s2769081-av-2-zoom.jpg?imwidth=270', 'moreColors': 12, 'onSaleData': 'NONE', 'pickupEligible': False, 'productId': 'P400625', 'productName': 'Luxe Lipstick', 'rating': '4.4791', 'reviews': '263', 'sameDayEligible': False, 'shipToHomeEligible': False, 'targetUrl': 'https://www.sephora.com/product/luxe-lip-color-P400625?skuId=2769081', 'sponsored': False}, {'brandName': 'Westman Atelier', 'currentSku': {'imageAltText': 'Westman Atelier - Lip Suede Hydrating Matte Lipstick with Hyaluronic Acid', 'isAppExclusive': False, 'isBI': False, 'isBest': False, 'isFirstAccess': False, 'isLimitedEdition': False, 'isLimitedTimeOffer': False, 'isNatural': False, 'isNew': True, 'isOnlineOnly': False, 'isOrganic': False, 'isSephoraExclusive': False, 'listPrice': '$50.00', 'skuId': '2739050', 'skuType': 'Standard'}, 'displayName': 'Lip Suede Hydrating Matte Lipstick with Hyaluronic Acid', 'heroImage': 'https://www.sephora.com/productimages/sku/s2739050-main-zoom.jpg?imwidth=270&pb=clean-at-sephora', 'image135': 'https://www.sephora.com/productimages/sku/s2739050-main-zoom.jpg?imwidth=270&pb=clean-at-sephora', 'image250': 'https://www.sephora.com/productimages/sku/s2739050-main-zoom.jpg?imwidth=270&pb=clean-at-sephora', 'image450': 'https://www.sephora.com/productimages/sku/s2739050-main-zoom.jpg?imwidth=270&pb=clean-at-sephora', 'altImage': 'https://www.sephora.com/productimages/sku/s2739050-av-2-zoom.jpg?imwidth=270', 'moreColors': 9, 'onSaleData': 'NONE', 'pickupEligible': False, 'productId': 'P510431', 'productName': 'Lip Suede Hydrating Matte Lipstick with Hyaluronic Acid', 'rating': '4.602', 'reviews': '196', 'sameDayEligible': False, 'shipToHomeEligible': False, 'targetUrl': 'https://www.sephora.com/product/westman-atelier-lip-suede-hydrating-matte-lipstick-P510431?skuId=2739050', 'sponsored': False}, {'brandName': 'LAWLESS', 'currentSku': {'imageAltText': 'LAWLESS - Forget the Filler Lip-Plumping Line-Smoothing Tinted Lip Balm', 'isAppExclusive': False, 'isBI': False, 'isBest': False, 'isFirstAccess': False, 'isLimitedEdition': False, 'isLimitedTimeOffer': False, 'isNatural': False, 'isNew': True, 'isOnlineOnly': False, 'isOrganic': False, 'isSephoraExclusive': True, 'listPrice': '$26.00', 'skuId': '2741577', 'skuType': 'Standard'}, 'displayName': 'Forget the Filler Lip-Plumping Line-Smoothing Tinted Lip Balm', 'heroImage': 'https://www.sephora.com/productimages/sku/s2741577-main-zoom.jpg?imwidth=270&pb=clean-at-sephora', 'image135': 'https://www.sephora.com/productimages/sku/s2741577-main-zoom.jpg?imwidth=270&pb=clean-at-sephora', 'image250': 'https://www.sephora.com/productimages/sku/s2741577-main-zoom.jpg?imwidth=270&pb=clean-at-sephora', 'image450': 'https://www.sephora.com/productimages/sku/s2741577-main-zoom.jpg?imwidth=270&pb=clean-at-sephora', 'altImage': 'https://www.sephora.com/productimages/sku/s2741577-av-3-zoom.jpg?imwidth=270', 'moreColors': 10, 'onSaleData': 'NONE', 'pickupEligible': False, 'productId': 'P504609', 'productName': 'Forget the Filler Lip-Plumping Line-Smoothing Tinted Lip Balm', 'rating': '4.3036', 'reviews': '1489', 'sameDayEligible': False, 'shipToHomeEligible': False, 'targetUrl': 'https://www.sephora.com/product/lawless-forget-filler-lip-plumping-line-smoothing-tinted-lip-balm-P504609?skuId=2741577', 'sponsored': False}, {'brandName': 'Tatcha', 'currentSku': {'imageAltText': 'Tatcha - The Kissu Lip Tint SPF 25 Hydrating Tinted Lip Sunscreen', 'isAppExclusive': False, 'isBI': False, 'isBest': False, 'isFirstAccess': False, 'isLimitedEdition': False, 'isLimitedTimeOffer': False, 'isNatural': False, 'isNew': True, 'isOnlineOnly': False, 'isOrganic': False, 'isSephoraExclusive': True, 'listPrice': '$34.00', 'skuId': '2762177', 'skuType': 'Standard'}, 'displayName': 'The Kissu Lip Tint SPF 25 Hydrating Tinted Lip Sunscreen', 'heroImage': 'https://www.sephora.com/productimages/sku/s2762177-main-zoom.jpg?imwidth=270&pb=clean-at-sephora', 'image135': 'https://www.sephora.com/productimages/sku/s2762177-main-zoom.jpg?imwidth=270&pb=clean-at-sephora', 'image250': 'https://www.sephora.com/productimages/sku/s2762177-main-zoom.jpg?imwidth=270&pb=clean-at-sephora', 'image450': 'https://www.sephora.com/productimages/sku/s2762177-main-zoom.jpg?imwidth=270&pb=clean-at-sephora', 'altImage': 'https://www.sephora.com/productimages/sku/s2762177-av-8-zoom.jpg?imwidth=270', 'moreColors': 2, 'onSaleData': 'NONE', 'pickupEligible': False, 'productId': 'P510516', 'productName': 'The Kissu Lip Tint SPF 25 Hydrating Tinted Lip Sunscreen', 'rating': '4.8517', 'reviews': '209', 'sameDayEligible': False, 'shipToHomeEligible': False, 'targetUrl': 'https://www.sephora.com/product/tatcha-the-kissu-lip-tint-spf-25-hydrating-tinted-lip-sunscreen-P510516?skuId=2762177', 'sponsored': False}, {'brandName': 'TOM FORD', 'currentSku': {'imageAltText': 'TOM FORD - Ultra Shine Lip Color', 'isAppExclusive': False, 'isBI': False, 'isBest': False, 'isFirstAccess': False, 'isLimitedEdition': False, 'isLimitedTimeOffer': False, 'isNatural': False, 'isNew': True, 'isOnlineOnly': False, 'isOrganic': False, 'isSephoraExclusive': False, 'listPrice': '$59.00', 'skuId': '2756203', 'skuType': 'Standard'}, 'displayName': 'Ultra Shine Lip Color', 'heroImage': 'https://www.sephora.com/productimages/sku/s2756203-main-zoom.jpg?imwidth=270', 'image135': 'https://www.sephora.com/productimages/sku/s2756203-main-zoom.jpg?imwidth=270', 'image250': 'https://www.sephora.com/productimages/sku/s2756203-main-zoom.jpg?imwidth=270', 'image450': 'https://www.sephora.com/productimages/sku/s2756203-main-zoom.jpg?imwidth=270', 'altImage': 'https://www.sephora.com/productimages/sku/s2756203-av-2-zoom.jpg?imwidth=270', 'moreColors': 11, 'onSaleData': 'NONE', 'pickupEligible': False, 'productId': 'P429018', 'productName': 'Ultra Shine Lip Color', 'rating': '4.6479', 'reviews': '568', 'sameDayEligible': False, 'shipToHomeEligible': False, 'targetUrl': 'https://www.sephora.com/product/ultra-shine-lip-color-P429018?skuId=2756203', 'sponsored': False}, {'brandName': 'Danessa Myricks Beauty', 'currentSku': {'imageAltText': 'Danessa Myricks Beauty - Colorfix - Multi-Use Eye, Cheek & Lip Waterproof Liquid Pigment', 'isAppExclusive': False, 'isBI': False, 'isBest': False, 'isFirstAccess': False, 'isLimitedEdition': False, 'isLimitedTimeOffer': False, 'isNatural': False, 'isNew': True, 'isOnlineOnly': False, 'isOrganic': False, 'isSephoraExclusive': False, 'listPrice': '$20.00', 'skuId': '2774354', 'skuType': 'Standard'}, 'displayName': 'Colorfix - Multi-Use Eye, Cheek & Lip Waterproof Liquid Pigment', 'heroImage': 'https://www.sephora.com/productimages/sku/s2774354-main-zoom.jpg?imwidth=270', 'image135': 'https://www.sephora.com/productimages/sku/s2774354-main-zoom.jpg?imwidth=270', 'image250': 'https://www.sephora.com/productimages/sku/s2774354-main-zoom.jpg?imwidth=270', 'image450': 'https://www.sephora.com/productimages/sku/s2774354-main-zoom.jpg?imwidth=270', 'altImage': 'https://www.sephora.com/productimages/sku/s2774354-av-2-zoom.jpg?imwidth=270', 'moreColors': 39, 'onSaleData': 'NONE', 'pickupEligible': False, 'productId': 'P468353', 'productName': 'Colorfix - Multi-Use Eye, Cheek & Lip Waterproof Liquid Pigment', 'rating': '4.3916', 'reviews': '1121', 'sameDayEligible': False, 'shipToHomeEligible': False, 'targetUrl': 'https://www.sephora.com/product/danessa-myricks-colorfix-24-hour-cream-color-P468353?skuId=2774354', 'sponsored': False}, {'brandName': 'NARS', 'currentSku': {'imageAltText': 'NARS - Powermatte High-Intensity Long-Lasting Lip Pencil', 'isAppExclusive': False, 'isBI': False, 'isBest': False, 'isFirstAccess': False, 'isLimitedEdition': False, 'isLimitedTimeOffer': False, 'isNatural': False, 'isNew': True, 'isOnlineOnly': False, 'isOrganic': False, 'isSephoraExclusive': False, 'listPrice': '$30.00', 'skuId': '2756104', 'skuType': 'Standard'}, 'displayName': 'Powermatte High-Intensity Long-Lasting Lip Pencil', 'heroImage': 'https://www.sephora.com/productimages/sku/s2756104-main-zoom.jpg?imwidth=270', 'image135': 'https://www.sephora.com/productimages/sku/s2756104-main-zoom.jpg?imwidth=270', 'image250': 'https://www.sephora.com/productimages/sku/s2756104-main-zoom.jpg?imwidth=270', 'image450': 'https://www.sephora.com/productimages/sku/s2756104-main-zoom.jpg?imwidth=270', 'altImage': 'https://www.sephora.com/productimages/sku/s2756104-av-5-zoom.jpg?imwidth=270', 'moreColors': 12, 'onSaleData': 'NONE', 'pickupEligible': False, 'productId': 'P507545', 'productName': 'Powermatte High-Intensity Long-Lasting Lip Pencil', 'rating': '4.3368', 'reviews': '285', 'sameDayEligible': False, 'shipToHomeEligible': False, 'targetUrl': 'https://www.sephora.com/product/powermatte-high-intensity-long-lasting-lip-pencil-P507545?skuId=2756104', 'sponsored': False}, {'brandName': 'SIMIHAZE BEAUTY', 'currentSku': {'imageAltText': 'SIMIHAZE BEAUTY - Velvet Blur Matte Lipstick Balm', 'isAppExclusive': False, 'isBI': False, 'isBest': False, 'isFirstAccess': False, 'isLimitedEdition': False, 'isLimitedTimeOffer': False, 'isNatural': False, 'isNew': True, 'isOnlineOnly': False, 'isOrganic': False, 'isSephoraExclusive': False, 'listPrice': '$36.00', 'skuId': '2782654', 'skuType': 'Standard'}, 'displayName': 'Velvet Blur Matte Lipstick Balm', 'heroImage': 'https://www.sephora.com/productimages/sku/s2782654-main-zoom.jpg?imwidth=270', 'image135': 'https://www.sephora.com/productimages/sku/s2782654-main-zoom.jpg?imwidth=270', 'image250': 'https://www.sephora.com/productimages/sku/s2782654-main-zoom.jpg?imwidth=270', 'image450': 'https://www.sephora.com/productimages/sku/s2782654-main-zoom.jpg?imwidth=270', 'altImage': 'https://www.sephora.com/productimages/sku/s2782654-av-2-zoom.jpg?imwidth=270', 'moreColors': 6, 'onSaleData': 'NONE', 'pickupEligible': False, 'productId': 'P503349', 'productName': 'Velvet Blur Matte Lipstick Balm', 'rating': '4.2123', 'reviews': '146', 'sameDayEligible': False, 'shipToHomeEligible': False, 'targetUrl': 'https://www.sephora.com/product/velvet-blur-matte-lipbalm-P503349?skuId=2782654', 'sponsored': False}, {'brandName': 'Charlotte Tilbury', 'currentSku': {'imageAltText': 'Charlotte Tilbury - Pillow Talk Lip and Cheek Secrets Set', 'isAppExclusive': False, 'isBI': False, 'isBest': False, 'isFirstAccess': False, 'isLimitedEdition': True, 'isLimitedTimeOffer': False, 'isNatural': False, 'isNew': True, 'isOnlineOnly': False, 'isOrganic': False, 'isSephoraExclusive': True, 'listPrice': '$50.00', 'valuePrice': '$75.00', 'skuId': '2765659', 'skuType': 'Standard'}, 'displayName': 'Pillow Talk Lip and Cheek Secrets Set', 'heroImage': 'https://www.sephora.com/productimages/sku/s2765659-main-zoom.jpg?imwidth=270', 'image135': 'https://www.sephora.com/productimages/sku/s2765659-main-zoom.jpg?imwidth=270', 'image250': 'https://www.sephora.com/productimages/sku/s2765659-main-zoom.jpg?imwidth=270', 'image450': 'https://www.sephora.com/productimages/sku/s2765659-main-zoom.jpg?imwidth=270', 'altImage': 'https://www.sephora.com/productimages/sku/s2765659-av-3-zoom.jpg?imwidth=270', 'onSaleData': 'NONE', 'pickupEligible': False, 'productId': 'P511118', 'productName': 'Pillow Talk Lip and Cheek Secrets Set', 'rating': '5', 'reviews': '2', 'sameDayEligible': False, 'shipToHomeEligible': False, 'targetUrl': 'https://www.sephora.com/product/charlotte-tilbury-pillow-talk-lip-cheek-secrets-P511118?skuId=2765659', 'sponsored': False}, {'brandName': 'Gucci', 'currentSku': {'imageAltText': 'Gucci - Transfer-proof Matte Liquid lipstick', 'isAppExclusive': False, 'isBI': False, 'isBest': False, 'isFirstAccess': False, 'isLimitedEdition': False, 'isLimitedTimeOffer': False, 'isNatural': False, 'isNew': True, 'isOnlineOnly': True, 'isOrganic': False, 'isSephoraExclusive': False, 'listPrice': '$47.00', 'skuId': '2749448', 'skuType': 'Standard'}, 'displayName': 'Transfer-proof Matte Liquid lipstick', 'heroImage': 'https://www.sephora.com/productimages/sku/s2749448-main-zoom.jpg?imwidth=270', 'image135': 'https://www.sephora.com/productimages/sku/s2749448-main-zoom.jpg?imwidth=270', 'image250': 'https://www.sephora.com/productimages/sku/s2749448-main-zoom.jpg?imwidth=270', 'image450': 'https://www.sephora.com/productimages/sku/s2749448-main-zoom.jpg?imwidth=270', 'altImage': 'https://www.sephora.com/productimages/sku/s2749448-av-2-zoom.jpg?imwidth=270', 'moreColors': 11, 'onSaleData': 'NONE', 'pickupEligible': False, 'productId': 'P483448', 'productName': 'Transfer-proof Matte Liquid lipstick', 'rating': '4.2515', 'reviews': '163', 'sameDayEligible': False, 'shipToHomeEligible': False, 'targetUrl': 'https://www.sephora.com/product/gucci-gucci-rouge-a-levres-liquid-matte-lipstick-P483448?skuId=2749448', 'sponsored': False}, {'brandName': 'HAUS LABS BY LADY GAGA', 'currentSku': {'imageAltText': 'HAUS LABS BY LADY GAGA - Hy-Power Eye, Cheek & Lip Pigment Paint', 'isAppExclusive': False, 'isBI': False, 'isBest': False, 'isFirstAccess': False, 'isLimitedEdition': False, 'isLimitedTimeOffer': False, 'isNatural': False, 'isNew': True, 'isOnlineOnly': False, 'isOrganic': False, 'isSephoraExclusive': True, 'listPrice': '$24.00', 'skuId': '2755957', 'skuType': 'Standard'}, 'displayName': 'Hy-Power Eye, Cheek & Lip Pigment Paint', 'heroImage': 'https://www.sephora.com/productimages/sku/s2755957-main-zoom.jpg?imwidth=270&pb=clean-at-sephora', 'image135': 'https://www.sephora.com/productimages/sku/s2755957-main-zoom.jpg?imwidth=270&pb=clean-at-sephora', 'image250': 'https://www.sephora.com/productimages/sku/s2755957-main-zoom.jpg?imwidth=270&pb=clean-at-sephora', 'image450': 'https://www.sephora.com/productimages/sku/s2755957-main-zoom.jpg?imwidth=270&pb=clean-at-sephora', 'altImage': 'https://www.sephora.com/productimages/sku/s2755957-av-2-zoom.jpg?imwidth=270', 'moreColors': 19, 'onSaleData': 'NONE', 'pickupEligible': False, 'productId': 'P500298', 'productName': 'Hy-Power Eye, Cheek & Lip Pigment Paint', 'rating': '4.2383', 'reviews': '407', 'sameDayEligible': False, 'shipToHomeEligible': False, 'targetUrl': 'https://www.sephora.com/product/hy-power-eye-cheek-lip-pigment-paint-P500298?skuId=2755957', 'sponsored': False}, {'brandName': 'Freck Beauty', 'currentSku': {'imageAltText': 'Freck Beauty - CHEEKSLIME Lip + Cheek Tint', 'isAppExclusive': False, 'isBI': False, 'isBest': False, 'isFirstAccess': False, 'isLimitedEdition': False, 'isLimitedTimeOffer': False, 'isNatural': False, 'isNew': True, 'isOnlineOnly': False, 'isOrganic': False, 'isSephoraExclusive': False, 'listPrice': '$22.00', 'skuId': '2777688', 'skuType': 'Standard'}, 'displayName': 'CHEEKSLIME Lip + Cheek Tint', 'heroImage': 'https://www.sephora.com/productimages/sku/s2777688-main-zoom.jpg?imwidth=270&pb=clean-at-sephora', 'image135': 'https://www.sephora.com/productimages/sku/s2777688-main-zoom.jpg?imwidth=270&pb=clean-at-sephora', 'image250': 'https://www.sephora.com/productimages/sku/s2777688-main-zoom.jpg?imwidth=270&pb=clean-at-sephora', 'image450': 'https://www.sephora.com/productimages/sku/s2777688-main-zoom.jpg?imwidth=270&pb=clean-at-sephora', 'altImage': 'https://www.sephora.com/productimages/sku/s2777688-av-6-zoom.jpg?imwidth=270', 'moreColors': 5, 'onSaleData': 'NONE', 'pickupEligible': False, 'productId': 'P469819', 'productName': 'CHEEKSLIME Lip + Cheek Tint', 'rating': '4.2902', 'reviews': '379', 'sameDayEligible': False, 'shipToHomeEligible': False, 'targetUrl': 'https://www.sephora.com/product/freck-beauty-cheekslime-lip-cheek-tint-with-plant-collagen-P469819?skuId=2777688', 'sponsored': False}, {'brandName': 'SEPHORA COLLECTION', 'currentSku': {'imageAltText': 'SEPHORA COLLECTION - Rouge Lacquer Long-Lasting Lipstick', 'isAppExclusive': False, 'isBI': False, 'isBest': False, 'isFirstAccess': False, 'isLimitedEdition': False, 'isLimitedTimeOffer': False, 'isNatural': False, 'isNew': False, 'isOnlineOnly': False, 'isOrganic': False, 'isSephoraExclusive': True, 'listPrice': '$15.00', 'salePrice': '$5.00', 'skuId': '2066215', 'skuType': 'Standard'}, 'displayName': 'Rouge Lacquer Long-Lasting Lipstick', 'heroImage': 'https://www.sephora.com/productimages/sku/s2066215-main-zoom.jpg?imwidth=270&pb=2023-03-sephora-value-2023', 'image135': 'https://www.sephora.com/productimages/sku/s2066215-main-zoom.jpg?imwidth=270&pb=2023-03-sephora-value-2023', 'image250': 'https://www.sephora.com/productimages/sku/s2066215-main-zoom.jpg?imwidth=270&pb=2023-03-sephora-value-2023', 'image450': 'https://www.sephora.com/productimages/sku/s2066215-main-zoom.jpg?imwidth=270&pb=2023-03-sephora-value-2023', 'altImage': 'https://www.sephora.com/productimages/product/p443336-av-02-zoom.jpg?imwidth=270', 'moreColors': 23, 'onSaleData': 'FULL', 'pickupEligible': False, 'productId': 'P443336', 'productName': 'Rouge Lacquer Long-Lasting Lipstick', 'rating': '4.0446', 'reviews': '493', 'sameDayEligible': False, 'shipToHomeEligible': False, 'targetUrl': 'https://www.sephora.com/product/rouge-lacquer-P443336?skuId=2066215', 'sponsored': False}, {'brandName': 'Anastasia Beverly Hills', 'currentSku': {'imageAltText': 'Anastasia Beverly Hills - Long-Wearing Matte & Satin Velvet Lipstick', 'isAppExclusive': False, 'isBI': False, 'isBest': False, 'isFirstAccess': False, 'isLimitedEdition': False, 'isLimitedTimeOffer': False, 'isNatural': False, 'isNew': False, 'isOnlineOnly': False, 'isOrganic': False, 'isSephoraExclusive': False, 'listPrice': '$23.00', 'skuId': '2650992', 'skuType': 'Standard'}, 'displayName': 'Long-Wearing Matte & Satin Velvet Lipstick', 'heroImage': 'https://www.sephora.com/productimages/sku/s2650992-main-zoom.jpg?imwidth=270', 'image135': 'https://www.sephora.com/productimages/sku/s2650992-main-zoom.jpg?imwidth=270', 'image250': 'https://www.sephora.com/productimages/sku/s2650992-main-zoom.jpg?imwidth=270', 'image450': 'https://www.sephora.com/productimages/sku/s2650992-main-zoom.jpg?imwidth=270', 'altImage': 'https://www.sephora.com/productimages/sku/s2650992-av-2-zoom.jpg?imwidth=270', 'moreColors': 23, 'onSaleData': 'NONE', 'pickupEligible': False, 'productId': 'P480576', 'productName': 'Long-Wearing Matte & Satin Velvet Lipstick', 'rating': '4.5897', 'reviews': '1494', 'sameDayEligible': False, 'shipToHomeEligible': False, 'targetUrl': 'https://www.sephora.com/product/anastasia-beverly-hills-matte-satin-velvet-lipstick-P480576?skuId=2650992', 'sponsored': False}, {'brandName': 'Rare Beauty by Selena Gomez', 'currentSku': {'imageAltText': 'Rare Beauty by Selena Gomez - Kind Words Matte Lipstick', 'isAppExclusive': False, 'isBI': False, 'isBest': False, 'isFirstAccess': False, 'isLimitedEdition': False, 'isLimitedTimeOffer': False, 'isNatural': False, 'isNew': False, 'isOnlineOnly': False, 'isOrganic': False, 'isSephoraExclusive': True, 'listPrice': '$20.00', 'skuId': '2589422', 'skuType': 'Standard'}, 'displayName': 'Kind Words Matte Lipstick', 'heroImage': 'https://www.sephora.com/productimages/sku/s2589422-main-zoom.jpg?imwidth=270', 'image135': 'https://www.sephora.com/productimages/sku/s2589422-main-zoom.jpg?imwidth=270', 'image250': 'https://www.sephora.com/productimages/sku/s2589422-main-zoom.jpg?imwidth=270', 'image450': 'https://www.sephora.com/productimages/sku/s2589422-main-zoom.jpg?imwidth=270', 'altImage': 'https://www.sephora.com/productimages/sku/s2589422-av-1-zoom.jpg?imwidth=270', 'moreColors': 9, 'onSaleData': 'NONE', 'pickupEligible': False, 'productId': 'P500637', 'productName': 'Kind Words Matte Lipstick', 'rating': '4.4129', 'reviews': '683', 'sameDayEligible': False, 'shipToHomeEligible': False, 'targetUrl': 'https://www.sephora.com/product/kind-words-matte-lipstick-P500637?skuId=2589422', 'sponsored': False}, {'brandName': 'SEPHORA COLLECTION', 'currentSku': {'imageAltText': 'SEPHORA COLLECTION - Satin Hydrating Lipstick', 'isAppExclusive': False, 'isBI': False, 'isBest': False, 'isFirstAccess': False, 'isLimitedEdition': False, 'isLimitedTimeOffer': False, 'isNatural': False, 'isNew': False, 'isOnlineOnly': False, 'isOrganic': False, 'isSephoraExclusive': True, 'listPrice': '$15.00', 'skuId': '2564474', 'skuType': 'Standard'}, 'displayName': 'Satin Hydrating Lipstick', 'heroImage': 'https://www.sephora.com/productimages/sku/s2564474-main-zoom.jpg?imwidth=270&pb=2023-03-sephora-value-2023', 'image135': 'https://www.sephora.com/productimages/sku/s2564474-main-zoom.jpg?imwidth=270&pb=2023-03-sephora-value-2023', 'image250': 'https://www.sephora.com/productimages/sku/s2564474-main-zoom.jpg?imwidth=270&pb=2023-03-sephora-value-2023', 'image450': 'https://www.sephora.com/productimages/sku/s2564474-main-zoom.jpg?imwidth=270&pb=2023-03-sephora-value-2023', 'altImage': 'https://www.sephora.com/productimages/sku/s2564474-av-2-zoom.jpg?imwidth=270', 'moreColors': 19, 'onSaleData': 'NONE', 'pickupEligible': False, 'productId': 'P501496', 'productName': 'Satin Hydrating Lipstick', 'rating': '4.6337', 'reviews': '243', 'sameDayEligible': False, 'shipToHomeEligible': False, 'targetUrl': 'https://www.sephora.com/product/satin-hydrating-lipstick-P501496?skuId=2564474', 'sponsored': False}, {'brandName': 'SEPHORA COLLECTION', 'currentSku': {'imageAltText': 'SEPHORA COLLECTION - Cream Lip Stain Liquid Lipstick', 'isAppExclusive': False, 'isBI': False, 'isBest': False, 'isFirstAccess': False, 'isLimitedEdition': False, 'isLimitedTimeOffer': False, 'isNatural': False, 'isNew': False, 'isOnlineOnly': False, 'isOrganic': False, 'isSephoraExclusive': True, 'listPrice': '$15.00', 'salePrice': '$12.00', 'skuId': '1296060', 'skuType': 'Standard'}, 'displayName': 'Cream Lip Stain Liquid Lipstick', 'heroImage': 'https://www.sephora.com/productimages/sku/s1296060-main-zoom.jpg?imwidth=270&pb=2023-03-sephora-value-2023', 'image135': 'https://www.sephora.com/productimages/sku/s1296060-main-zoom.jpg?imwidth=270&pb=2023-03-sephora-value-2023', 'image250': 'https://www.sephora.com/productimages/sku/s1296060-main-zoom.jpg?imwidth=270&pb=2023-03-sephora-value-2023', 'image450': 'https://www.sephora.com/productimages/sku/s1296060-main-zoom.jpg?imwidth=270&pb=2023-03-sephora-value-2023', 'altImage': 'https://www.sephora.com/productimages/sku/s1296060-av-01-zoom.jpg?imwidth=270', 'moreColors': 72, 'onSaleData': 'FULL', 'pickupEligible': False, 'productId': 'P281411', 'productName': 'Cream Lip Stain Liquid Lipstick', 'rating': '4.3031', 'reviews': '11536', 'sameDayEligible': False, 'shipToHomeEligible': False, 'targetUrl': 'https://www.sephora.com/product/cream-lip-stain-liquid-lipstick-P281411?skuId=1296060', 'sponsored': False}, {'brandName': 'MAKEUP BY MARIO', 'currentSku': {'imageAltText': 'MAKEUP BY MARIO - SuperSatin™ Lipstick', 'isAppExclusive': False, 'isBI': False, 'isBest': False, 'isFirstAccess': False, 'isLimitedEdition': False, 'isLimitedTimeOffer': False, 'isNatural': False, 'isNew': False, 'isOnlineOnly': False, 'isOrganic': False, 'isSephoraExclusive': True, 'listPrice': '$28.00', 'skuId': '2731636', 'skuType': 'Standard'}, 'displayName': 'SuperSatin™ Lipstick', 'heroImage': 'https://www.sephora.com/productimages/sku/s2731636-main-zoom.jpg?imwidth=270', 'image135': 'https://www.sephora.com/productimages/sku/s2731636-main-zoom.jpg?imwidth=270', 'image250': 'https://www.sephora.com/productimages/sku/s2731636-main-zoom.jpg?imwidth=270', 'image450': 'https://www.sephora.com/productimages/sku/s2731636-main-zoom.jpg?imwidth=270', 'altImage': 'https://www.sephora.com/productimages/sku/s2731636-av-2-zoom.jpg?imwidth=270', 'moreColors': 17, 'onSaleData': 'NONE', 'pickupEligible': False, 'productId': 'P509305', 'productName': 'SuperSatin™ Lipstick', 'rating': '4.3363', 'reviews': '113', 'sameDayEligible': False, 'shipToHomeEligible': False, 'targetUrl': 'https://www.sephora.com/product/makeup-by-mario-supersatin-lipstick-P509305?skuId=2731636', 'sponsored': False}, {'brandName': 'NARS', 'currentSku': {'imageAltText': 'NARS - Lipstick', 'isAppExclusive': False, 'isBI': False, 'isBest': False, 'isFirstAccess': False, 'isLimitedEdition': False, 'isLimitedTimeOffer': False, 'isNatural': False, 'isNew': False, 'isOnlineOnly': False, 'isOrganic': False, 'isSephoraExclusive': False, 'listPrice': '$26.00', 'skuId': '2245652', 'skuType': 'Standard'}, 'displayName': 'Lipstick', 'heroImage': 'https://www.sephora.com/productimages/sku/s2245652-main-zoom.jpg?imwidth=270', 'image135': 'https://www.sephora.com/productimages/sku/s2245652-main-zoom.jpg?imwidth=270', 'image250': 'https://www.sephora.com/productimages/sku/s2245652-main-zoom.jpg?imwidth=270', 'image450': 'https://www.sephora.com/productimages/sku/s2245652-main-zoom.jpg?imwidth=270', 'altImage': 'https://www.sephora.com/productimages/sku/s2245652-av-01-zoom.jpg?imwidth=270', 'moreColors': 8, 'onSaleData': 'NONE', 'pickupEligible': False, 'productId': 'P448502', 'productName': 'Lipstick', 'rating': '4.1545', 'reviews': '453', 'sameDayEligible': False, 'shipToHomeEligible': False, 'targetUrl': 'https://www.sephora.com/product/lipstick-P448502?skuId=2245652', 'sponsored': False}, {'brandName': 'SEPHORA COLLECTION', 'currentSku': {'imageAltText': 'SEPHORA COLLECTION - Matte Velvet Lipstick', 'isAppExclusive': False, 'isBI': False, 'isBest': False, 'isFirstAccess': False, 'isLimitedEdition': False, 'isLimitedTimeOffer': False, 'isNatural': False, 'isNew': False, 'isOnlineOnly': False, 'isOrganic': False, 'isSephoraExclusive': True, 'listPrice': '$15.00', 'skuId': '2666840', 'skuType': 'Standard'}, 'displayName': 'Matte Velvet Lipstick', 'heroImage': 'https://www.sephora.com/productimages/sku/s2666840-main-zoom.jpg?imwidth=270&pb=2023-03-sephora-value-2023', 'image135': 'https://www.sephora.com/productimages/sku/s2666840-main-zoom.jpg?imwidth=270&pb=2023-03-sephora-value-2023', 'image250': 'https://www.sephora.com/productimages/sku/s2666840-main-zoom.jpg?imwidth=270&pb=2023-03-sephora-value-2023', 'image450': 'https://www.sephora.com/productimages/sku/s2666840-main-zoom.jpg?imwidth=270&pb=2023-03-sephora-value-2023', 'altImage': 'https://www.sephora.com/productimages/sku/s2666840-av-2-zoom.jpg?imwidth=270', 'moreColors': 19, 'onSaleData': 'NONE', 'pickupEligible': False, 'productId': 'P506548', 'productName': 'Matte Velvet Lipstick', 'rating': '4.6071', 'reviews': '308', 'sameDayEligible': False, 'shipToHomeEligible': False, 'targetUrl': 'https://www.sephora.com/product/matte-velvet-lipstick-P506548?skuId=2666840', 'sponsored': False}, {'brandName': 'Charlotte Tilbury', 'currentSku': {'imageAltText': 'Charlotte Tilbury - Mini Pillow Talk Lipstick & Liner Set', 'isAppExclusive': False, 'isBI': False, 'isBest': False, 'isFirstAccess': False, 'isLimitedEdition': False, 'isLimitedTimeOffer': False, 'isNatural': False, 'isNew': False, 'isOnlineOnly': False, 'isOrganic': False, 'isSephoraExclusive': True, 'listPrice': '$25.00', 'skuId': '2447738', 'skuType': 'Standard'}, 'displayName': 'Mini Pillow Talk Lipstick & Liner Set', 'heroImage': 'https://www.sephora.com/productimages/sku/s2447738-main-zoom.jpg?imwidth=270', 'image135': 'https://www.sephora.com/productimages/sku/s2447738-main-zoom.jpg?imwidth=270', 'image250': 'https://www.sephora.com/productimages/sku/s2447738-main-zoom.jpg?imwidth=270', 'image450': 'https://www.sephora.com/productimages/sku/s2447738-main-zoom.jpg?imwidth=270', 'altImage': 'https://www.sephora.com/productimages/sku/s2447738-av-02-zoom.jpg?imwidth=270', 'moreColors': 2, 'onSaleData': 'NONE', 'pickupEligible': False, 'productId': 'P458268', 'productName': 'Mini Pillow Talk Lipstick & Liner Set', 'rating': '3.535', 'reviews': '1127', 'sameDayEligible': False, 'shipToHomeEligible': False, 'targetUrl': 'https://www.sephora.com/product/charlotte-tilbury-mini-pillow-talk-lip-duo-P458268?skuId=2447738', 'sponsored': False}, {'brandName': 'Charlotte Tilbury', 'currentSku': {'imageAltText': 'Charlotte Tilbury - Matte Revolution Hydrating Lipstick', 'isAppExclusive': False, 'isBI': False, 'isBest': False, 'isFirstAccess': False, 'isLimitedEdition': False, 'isLimitedTimeOffer': False, 'isNatural': False, 'isNew': False, 'isOnlineOnly': False, 'isOrganic': False, 'isSephoraExclusive': True, 'listPrice': '$35.00 - $38.00', 'skuId': '2736098', 'skuType': 'Standard'}, 'displayName': 'Matte Revolution Hydrating Lipstick', 'heroImage': 'https://www.sephora.com/productimages/sku/s2736098-main-zoom.jpg?imwidth=270', 'image135': 'https://www.sephora.com/productimages/sku/s2736098-main-zoom.jpg?imwidth=270', 'image250': 'https://www.sephora.com/productimages/sku/s2736098-main-zoom.jpg?imwidth=270', 'image450': 'https://www.sephora.com/productimages/sku/s2736098-main-zoom.jpg?imwidth=270', 'altImage': 'https://www.sephora.com/productimages/sku/s2736098-av-2-zoom.jpg?imwidth=270', 'moreColors': 24, 'onSaleData': 'NONE', 'pickupEligible': False, 'productId': 'P433530', 'productName': 'Matte Revolution Hydrating Lipstick', 'rating': '4.2417', 'reviews': '2151', 'sameDayEligible': False, 'shipToHomeEligible': False, 'targetUrl': 'https://www.sephora.com/product/matte-revolution-lipstick-P433530?skuId=2736098', 'sponsored': False}, {'brandName': 'MERIT', 'currentSku': {'imageAltText': 'MERIT - Signature Lip Lightweight Satin Lipstick', 'isAppExclusive': False, 'isBI': False, 'isBest': False, 'isFirstAccess': False, 'isLimitedEdition': False, 'isLimitedTimeOffer': False, 'isNatural': False, 'isNew': False, 'isOnlineOnly': False, 'isOrganic': False, 'isSephoraExclusive': True, 'listPrice': '$26.00', 'skuId': '2512770', 'skuType': 'Standard'}, 'displayName': 'Signature Lip Lightweight Satin Lipstick', 'heroImage': 'https://www.sephora.com/productimages/sku/s2512770-main-zoom.jpg?imwidth=270&pb=clean-at-sephora', 'image135': 'https://www.sephora.com/productimages/sku/s2512770-main-zoom.jpg?imwidth=270&pb=clean-at-sephora', 'image250': 'https://www.sephora.com/productimages/sku/s2512770-main-zoom.jpg?imwidth=270&pb=clean-at-sephora', 'image450': 'https://www.sephora.com/productimages/sku/s2512770-main-zoom.jpg?imwidth=270&pb=clean-at-sephora', 'altImage': 'https://www.sephora.com/productimages/sku/s2512770-av-02-zoom.jpg?imwidth=270', 'moreColors': 7, 'onSaleData': 'NONE', 'pickupEligible': False, 'productId': 'P481403', 'productName': 'Signature Lip Lightweight Satin Lipstick', 'rating': '4.3832', 'reviews': '809', 'sameDayEligible': False, 'shipToHomeEligible': False, 'targetUrl': 'https://www.sephora.com/product/merit-signature-lip-lightweight-lipstick-P481403?skuId=2512770', 'sponsored': False}, {'brandName': 'PAT McGRATH LABS', 'currentSku': {'imageAltText': 'PAT McGRATH LABS - SatinAllure&trade; Lipstick', 'isAppExclusive': False, 'isBI': False, 'isBest': False, 'isFirstAccess': False, 'isLimitedEdition': False, 'isLimitedTimeOffer': False, 'isNatural': False, 'isNew': False, 'isOnlineOnly': False, 'isOrganic': False, 'isSephoraExclusive': True, 'listPrice': '$30.00', 'skuId': '2670776', 'skuType': 'Standard'}, 'displayName': 'SatinAllure&trade; Lipstick', 'heroImage': 'https://www.sephora.com/productimages/sku/s2670776-main-zoom.jpg?imwidth=270&pb=allure-2023-bestofbeauty-badge', 'image135': 'https://www.sephora.com/productimages/sku/s2670776-main-zoom.jpg?imwidth=270&pb=allure-2023-bestofbeauty-badge', 'image250': 'https://www.sephora.com/productimages/sku/s2670776-main-zoom.jpg?imwidth=270&pb=allure-2023-bestofbeauty-badge', 'image450': 'https://www.sephora.com/productimages/sku/s2670776-main-zoom.jpg?imwidth=270&pb=allure-2023-bestofbeauty-badge', 'altImage': 'https://www.sephora.com/productimages/sku/s2670776-av-2-zoom.jpg?imwidth=270', 'moreColors': 10, 'onSaleData': 'NONE', 'pickupEligible': False, 'productId': 'P482714', 'productName': 'SatinAllure&trade; Lipstick', 'rating': '4.5342', 'reviews': '657', 'sameDayEligible': False, 'shipToHomeEligible': False, 'targetUrl': 'https://www.sephora.com/product/pat-mcgrath-labs-satinallure-lipstick-P482714?skuId=2670776', 'sponsored': False}, {'brandName': 'Glossier', 'currentSku': {'imageAltText': 'Glossier - Ultralip High Shine Lipstick with Hyaluronic Acid', 'isAppExclusive': False, 'isBI': False, 'isBest': False, 'isFirstAccess': False, 'isLimitedEdition': False, 'isLimitedTimeOffer': False, 'isNatural': False, 'isNew': False, 'isOnlineOnly': False, 'isOrganic': False, 'isSephoraExclusive': True, 'listPrice': '$20.00', 'skuId': '2636728', 'skuType': 'Standard'}, 'displayName': 'Ultralip High Shine Lipstick with Hyaluronic Acid', 'heroImage': 'https://www.sephora.com/productimages/sku/s2636728-main-zoom.jpg?imwidth=270', 'image135': 'https://www.sephora.com/productimages/sku/s2636728-main-zoom.jpg?imwidth=270', 'image250': 'https://www.sephora.com/productimages/sku/s2636728-main-zoom.jpg?imwidth=270', 'image450': 'https://www.sephora.com/productimages/sku/s2636728-main-zoom.jpg?imwidth=270', 'altImage': 'https://www.sephora.com/productimages/sku/s2636728-av-11-zoom.jpg?imwidth=270', 'moreColors': 8, 'onSaleData': 'NONE', 'pickupEligible': False, 'productId': 'P504823', 'productName': 'Ultralip High Shine Lipstick with Hyaluronic Acid', 'rating': '4.1', 'reviews': '480', 'sameDayEligible': False, 'shipToHomeEligible': False, 'targetUrl': 'https://www.sephora.com/product/glossier-ultralip-high-shine-lipstick-with-hyaluronic-acid-P504823?skuId=2636728', 'sponsored': False}, {'brandName': 'Rare Beauty by Selena Gomez', 'currentSku': {'imageAltText': 'Rare Beauty by Selena Gomez - Lip Soufflé Matte Cream Lipstick', 'isAppExclusive': False, 'isBI': False, 'isBest': False, 'isFirstAccess': False, 'isLimitedEdition': False, 'isLimitedTimeOffer': False, 'isNatural': False, 'isNew': False, 'isOnlineOnly': False, 'isOrganic': False, 'isSephoraExclusive': False, 'listPrice': '$20.00', 'skuId': '2629392', 'skuType': 'Standard'}, 'displayName': 'Lip Soufflé Matte Cream Lipstick', 'heroImage': 'https://www.sephora.com/productimages/sku/s2629392-main-zoom.jpg?imwidth=270', 'image135': 'https://www.sephora.com/productimages/sku/s2629392-main-zoom.jpg?imwidth=270', 'image250': 'https://www.sephora.com/productimages/sku/s2629392-main-zoom.jpg?imwidth=270', 'image450': 'https://www.sephora.com/productimages/sku/s2629392-main-zoom.jpg?imwidth=270', 'altImage': 'https://www.sephora.com/productimages/sku/s2629392-av-2-zoom.jpg?imwidth=270', 'moreColors': 11, 'onSaleData': 'NONE', 'pickupEligible': False, 'productId': 'P87987897', 'productName': 'Lip Soufflé Matte Cream Lipstick', 'rating': '4.2587', 'reviews': '1496', 'sameDayEligible': False, 'shipToHomeEligible': False, 'targetUrl': 'https://www.sephora.com/product/rare-beauty-by-selena-gomez-lip-souffle-matte-cream-lipstick-P87987897?skuId=2629392', 'sponsored': False}, {'brandName': 'Dior', 'currentSku': {'imageAltText': 'Dior - Rouge Dior Refillable Lipstick', 'isAppExclusive': False, 'isBI': False, 'isBest': False, 'isFirstAccess': False, 'isLimitedEdition': False, 'isLimitedTimeOffer': False, 'isNatural': False, 'isNew': False, 'isOnlineOnly': False, 'isOrganic': False, 'isSephoraExclusive': False, 'listPrice': '$39.00 - $49.00', 'skuId': '2750966', 'skuType': 'Standard'}, 'displayName': 'Rouge Dior Refillable Lipstick', 'heroImage': 'https://www.sephora.com/productimages/sku/s2750966-main-zoom.jpg?imwidth=270', 'image135': 'https://www.sephora.com/productimages/sku/s2750966-main-zoom.jpg?imwidth=270', 'image250': 'https://www.sephora.com/productimages/sku/s2750966-main-zoom.jpg?imwidth=270', 'image450': 'https://www.sephora.com/productimages/sku/s2750966-main-zoom.jpg?imwidth=270', 'altImage': 'https://www.sephora.com/productimages/sku/s2750966-av-2-zoom.jpg?imwidth=270', 'moreColors': 33, 'onSaleData': 'NONE', 'pickupEligible': False, 'productId': 'P467760', 'productName': 'Rouge Dior Refillable Lipstick', 'rating': '4.628', 'reviews': '1164', 'sameDayEligible': False, 'shipToHomeEligible': False, 'targetUrl': 'https://www.sephora.com/product/dior-rouge-dior-lipstick-P467760?skuId=2750966', 'sponsored': False}, {'brandName': 'CLINIQUE', 'currentSku': {'imageAltText': 'CLINIQUE - Almost Lipstick', 'isAppExclusive': False, 'isBI': False, 'isBest': False, 'isFirstAccess': False, 'isLimitedEdition': False, 'isLimitedTimeOffer': False, 'isNatural': False, 'isNew': False, 'isOnlineOnly': False, 'isOrganic': False, 'isSephoraExclusive': False, 'listPrice': '$25.00', 'skuId': '1719251', 'skuType': 'Standard'}, 'displayName': 'Almost Lipstick', 'heroImage': 'https://www.sephora.com/productimages/sku/s1719251-main-zoom.jpg?imwidth=270', 'image135': 'https://www.sephora.com/productimages/sku/s1719251-main-zoom.jpg?imwidth=270', 'image250': 'https://www.sephora.com/productimages/sku/s1719251-main-zoom.jpg?imwidth=270', 'image450': 'https://www.sephora.com/productimages/sku/s1719251-main-zoom.jpg?imwidth=270', 'altImage': 'https://www.sephora.com/productimages/sku/s1719251-av-1-zoom.jpg?imwidth=270', 'moreColors': 1, 'onSaleData': 'NONE', 'pickupEligible': False, 'productId': 'P122751', 'productName': 'Almost Lipstick', 'rating': '4.3992', 'reviews': '4444', 'sameDayEligible': False, 'shipToHomeEligible': False, 'targetUrl': 'https://www.sephora.com/product/almost-lipstick-P122751?skuId=1719251', 'sponsored': False}, {'brandName': 'Dior', 'currentSku': {'imageAltText': 'Dior - Dior Addict Refillable Shine Lipstick', 'isAppExclusive': False, 'isBI': False, 'isBest': False, 'isFirstAccess': False, 'isLimitedEdition': False, 'isLimitedTimeOffer': False, 'isNatural': False, 'isNew': False, 'isOnlineOnly': False, 'isOrganic': False, 'isSephoraExclusive': False, 'listPrice': '$32.00 - $46.00', 'skuId': '2639490', 'skuType': 'Standard'}, 'displayName': 'Dior Addict Refillable Shine Lipstick', 'heroImage': 'https://www.sephora.com/productimages/sku/s2639490-main-zoom.jpg?imwidth=270', 'image135': 'https://www.sephora.com/productimages/sku/s2639490-main-zoom.jpg?imwidth=270', 'image250': 'https://www.sephora.com/productimages/sku/s2639490-main-zoom.jpg?imwidth=270', 'image450': 'https://www.sephora.com/productimages/sku/s2639490-main-zoom.jpg?imwidth=270', 'altImage': 'https://www.sephora.com/productimages/sku/s2639490-av-2-zoom.jpg?imwidth=270', 'moreColors': 29, 'onSaleData': 'NONE', 'pickupEligible': False, 'productId': 'P481969', 'productName': 'Dior Addict Refillable Shine Lipstick', 'rating': '4.4884', 'reviews': '1036', 'sameDayEligible': False, 'shipToHomeEligible': False, 'targetUrl': 'https://www.sephora.com/product/dior-dior-addict-refillable-shine-lipstick-P481969?skuId=2639490', 'sponsored': False}, {'brandName': 'Yves Saint Laurent', 'currentSku': {'imageAltText': 'Yves Saint Laurent - The Bold High Pigment Lipstick', 'isAppExclusive': False, 'isBI': False, 'isBest': False, 'isFirstAccess': False, 'isLimitedEdition': False, 'isLimitedTimeOffer': False, 'isNatural': False, 'isNew': False, 'isOnlineOnly': False, 'isOrganic': False, 'isSephoraExclusive': False, 'listPrice': '$48.00', 'skuId': '2662294', 'skuType': 'Standard'}, 'displayName': 'The Bold High Pigment Lipstick', 'heroImage': 'https://www.sephora.com/productimages/sku/s2662294-main-zoom.jpg?imwidth=270', 'image135': 'https://www.sephora.com/productimages/sku/s2662294-main-zoom.jpg?imwidth=270', 'image250': 'https://www.sephora.com/productimages/sku/s2662294-main-zoom.jpg?imwidth=270', 'image450': 'https://www.sephora.com/productimages/sku/s2662294-main-zoom.jpg?imwidth=270', 'altImage': 'https://www.sephora.com/productimages/sku/s2662294-av-8-zoom.jpg?imwidth=270', 'moreColors': 14, 'onSaleData': 'NONE', 'pickupEligible': False, 'productId': 'P501588', 'productName': 'The Bold High Pigment Lipstick', 'rating': '4.5253', 'reviews': '1936', 'sameDayEligible': False, 'shipToHomeEligible': False, 'targetUrl': 'https://www.sephora.com/product/yves-saint-laurent-the-bold-high-pigment-lipstick-P501588?skuId=2662294', 'sponsored': False}, {'brandName': 'Rare Beauty by Selena Gomez', 'currentSku': {'imageAltText': 'Rare Beauty by Selena Gomez - Soft Pinch Tinted Lip Oil', 'isAppExclusive': False, 'isBI': False, 'isBest': False, 'isFirstAccess': False, 'isLimitedEdition': False, 'isLimitedTimeOffer': False, 'isNatural': False, 'isNew': False, 'isOnlineOnly': False, 'isOrganic': False, 'isSephoraExclusive': True, 'listPrice': '$20.00', 'skuId': '2640159', 'skuType': 'Standard'}, 'displayName': 'Soft Pinch Tinted Lip Oil', 'heroImage': 'https://www.sephora.com/productimages/sku/s2640159-main-zoom.jpg?imwidth=270', 'image135': 'https://www.sephora.com/productimages/sku/s2640159-main-zoom.jpg?imwidth=270', 'image250': 'https://www.sephora.com/productimages/sku/s2640159-main-zoom.jpg?imwidth=270', 'image450': 'https://www.sephora.com/productimages/sku/s2640159-main-zoom.jpg?imwidth=270', 'altImage': 'https://www.sephora.com/productimages/sku/s2640159-av-14-zoom.jpg?imwidth=270', 'moreColors': 7, 'onSaleData': 'NONE', 'pickupEligible': False, 'productId': 'P505568', 'productName': 'Soft Pinch Tinted Lip Oil', 'rating': '4.1303', 'reviews': '4130', 'sameDayEligible': False, 'shipToHomeEligible': False, 'targetUrl': 'https://www.sephora.com/product/rare-beauty-by-selena-gomez-soft-pinch-tinted-lip-oil-P505568?skuId=2640159', 'sponsored': False}, {'brandName': 'Anastasia Beverly Hills', 'currentSku': {'imageAltText': 'Anastasia Beverly Hills - Lip Velvet Liquid Lipstick', 'isAppExclusive': False, 'isBI': False, 'isBest': False, 'isFirstAccess': False, 'isLimitedEdition': False, 'isLimitedTimeOffer': False, 'isNatural': False, 'isNew': False, 'isOnlineOnly': False, 'isOrganic': False, 'isSephoraExclusive': False, 'listPrice': '$24.00', 'skuId': '2747293', 'skuType': 'Standard'}, 'displayName': 'Lip Velvet Liquid Lipstick', 'heroImage': 'https://www.sephora.com/productimages/sku/s2747293-main-zoom.jpg?imwidth=270', 'image135': 'https://www.sephora.com/productimages/sku/s2747293-main-zoom.jpg?imwidth=270', 'image250': 'https://www.sephora.com/productimages/sku/s2747293-main-zoom.jpg?imwidth=270', 'image450': 'https://www.sephora.com/productimages/sku/s2747293-main-zoom.jpg?imwidth=270', 'altImage': 'https://www.sephora.com/productimages/sku/s2747293-av-3-zoom.jpg?imwidth=270', 'moreColors': 5, 'onSaleData': 'NONE', 'pickupEligible': False, 'productId': 'P509681', 'productName': 'Lip Velvet Liquid Lipstick', 'rating': '4.5121', 'reviews': '1451', 'sameDayEligible': False, 'shipToHomeEligible': False, 'targetUrl': 'https://www.sephora.com/product/anastasia-beverly-hills-lip-velvet-liquid-lipstick-P509681?skuId=2747293', 'sponsored': False}, {'brandName': 'PATRICK TA', 'currentSku': {'imageAltText': 'PATRICK TA - Major Headlines Matte Suede Lipstick', 'isAppExclusive': False, 'isBI': False, 'isBest': False, 'isFirstAccess': False, 'isLimitedEdition': False, 'isLimitedTimeOffer': False, 'isNatural': False, 'isNew': False, 'isOnlineOnly': False, 'isOrganic': False, 'isSephoraExclusive': True, 'listPrice': '$32.00', 'skuId': '2699320', 'skuType': 'Standard'}, 'displayName': 'Major Headlines Matte Suede Lipstick', 'heroImage': 'https://www.sephora.com/productimages/sku/s2699320-main-zoom.jpg?imwidth=270', 'image135': 'https://www.sephora.com/productimages/sku/s2699320-main-zoom.jpg?imwidth=270', 'image250': 'https://www.sephora.com/productimages/sku/s2699320-main-zoom.jpg?imwidth=270', 'image450': 'https://www.sephora.com/productimages/sku/s2699320-main-zoom.jpg?imwidth=270', 'altImage': 'https://www.sephora.com/productimages/sku/s2699320-av-2-zoom.jpg?imwidth=270', 'moreColors': 9, 'onSaleData': 'NONE', 'pickupEligible': False, 'productId': 'P458748', 'productName': 'Major Headlines Matte Suede Lipstick', 'rating': '4.5855', 'reviews': '386', 'sameDayEligible': False, 'shipToHomeEligible': False, 'targetUrl': 'https://www.sephora.com/product/patrick-ta-major-headlines-matte-suede-lipstick-P458748?skuId=2699320', 'sponsored': False}, {'brandName': 'Urban Decay', 'currentSku': {'imageAltText': 'Urban Decay - Vice Hydrating Lipstick', 'isAppExclusive': False, 'isBI': False, 'isBest': False, 'isFirstAccess': False, 'isLimitedEdition': False, 'isLimitedTimeOffer': False, 'isNatural': False, 'isNew': False, 'isOnlineOnly': False, 'isOrganic': False, 'isSephoraExclusive': False, 'listPrice': '$21.00', 'skuId': '2481943', 'skuType': 'Standard'}, 'displayName': 'Vice Hydrating Lipstick', 'heroImage': 'https://www.sephora.com/productimages/sku/s2481943-main-zoom.jpg?imwidth=270', 'image135': 'https://www.sephora.com/productimages/sku/s2481943-main-zoom.jpg?imwidth=270', 'image250': 'https://www.sephora.com/productimages/sku/s2481943-main-zoom.jpg?imwidth=270', 'image450': 'https://www.sephora.com/productimages/sku/s2481943-main-zoom.jpg?imwidth=270', 'altImage': 'https://www.sephora.com/productimages/sku/s2481943-av-01-zoom.jpg?imwidth=270', 'moreColors': 26, 'onSaleData': 'NONE', 'pickupEligible': False, 'productId': 'P409523', 'productName': 'Vice Hydrating Lipstick', 'rating': '4.5462', 'reviews': '1384', 'sameDayEligible': False, 'shipToHomeEligible': False, 'targetUrl': 'https://www.sephora.com/product/vice-lipstick-P409523?skuId=2481943', 'sponsored': False}, {'brandName': 'Kulfi', 'currentSku': {'imageAltText': 'Kulfi - Heirloom Satin Lipstick', 'isAppExclusive': False, 'isBI': False, 'isBest': False, 'isFirstAccess': False, 'isLimitedEdition': False, 'isLimitedTimeOffer': False, 'isNatural': False, 'isNew': False, 'isOnlineOnly': False, 'isOrganic': False, 'isSephoraExclusive': True, 'listPrice': '$30.00', 'skuId': '2699080', 'skuType': 'Standard'}, 'displayName': 'Heirloom Satin Lipstick', 'heroImage': 'https://www.sephora.com/productimages/sku/s2699080-main-zoom.jpg?imwidth=270&pb=clean-at-sephora', 'image135': 'https://www.sephora.com/productimages/sku/s2699080-main-zoom.jpg?imwidth=270&pb=clean-at-sephora', 'image250': 'https://www.sephora.com/productimages/sku/s2699080-main-zoom.jpg?imwidth=270&pb=clean-at-sephora', 'image450': 'https://www.sephora.com/productimages/sku/s2699080-main-zoom.jpg?imwidth=270&pb=clean-at-sephora', 'altImage': 'https://www.sephora.com/productimages/sku/s2699080-av-10-zoom.jpg?imwidth=270', 'moreColors': 6, 'onSaleData': 'NONE', 'pickupEligible': False, 'productId': 'P507664', 'productName': 'Heirloom Satin Lipstick', 'rating': '4.8659', 'reviews': '261', 'sameDayEligible': False, 'shipToHomeEligible': False, 'targetUrl': 'https://www.sephora.com/product/heirloom-satin-lipstick-P507664?skuId=2699080', 'sponsored': False}, {'brandName': 'HUDA BEAUTY', 'currentSku': {'imageAltText': 'HUDA BEAUTY - Power Bullet Matte Lipstick', 'isAppExclusive': False, 'isBI': False, 'isBest': False, 'isFirstAccess': False, 'isLimitedEdition': False, 'isLimitedTimeOffer': False, 'isNatural': False, 'isNew': False, 'isOnlineOnly': False, 'isOrganic': False, 'isSephoraExclusive': True, 'listPrice': '$27.00', 'skuId': '2198505', 'skuType': 'Standard'}, 'displayName': 'Power Bullet Matte Lipstick', 'heroImage': 'https://www.sephora.com/productimages/sku/s2198505-main-zoom.jpg?imwidth=270', 'image135': 'https://www.sephora.com/productimages/sku/s2198505-main-zoom.jpg?imwidth=270', 'image250': 'https://www.sephora.com/productimages/sku/s2198505-main-zoom.jpg?imwidth=270', 'image450': 'https://www.sephora.com/productimages/sku/s2198505-main-zoom.jpg?imwidth=270', 'altImage': 'https://www.sephora.com/productimages/sku/s2198505-av-06-zoom.jpg?imwidth=270', 'moreColors': 10, 'onSaleData': 'NONE', 'pickupEligible': False, 'productId': 'P441880', 'productName': 'Power Bullet Matte Lipstick', 'rating': '4.1839', 'reviews': '1561', 'sameDayEligible': False, 'shipToHomeEligible': False, 'targetUrl': 'https://www.sephora.com/product/power-bullet-matte-lipstick-P441880?skuId=2198505', 'sponsored': False}, {'brandName': 'Hourglass', 'currentSku': {'imageAltText': 'Hourglass - Unlocked™ Satin Crème Lipstick', 'isAppExclusive': False, 'isBI': False, 'isBest': False, 'isFirstAccess': False, 'isLimitedEdition': False, 'isLimitedTimeOffer': False, 'isNatural': False, 'isNew': False, 'isOnlineOnly': False, 'isOrganic': False, 'isSephoraExclusive': False, 'listPrice': '$38.00', 'skuId': '2637510', 'skuType': 'Standard'}, 'displayName': 'Unlocked™ Satin Crème Lipstick', 'heroImage': 'https://www.sephora.com/productimages/sku/s2637510-main-zoom.jpg?imwidth=270', 'image135': 'https://www.sephora.com/productimages/sku/s2637510-main-zoom.jpg?imwidth=270', 'image250': 'https://www.sephora.com/productimages/sku/s2637510-main-zoom.jpg?imwidth=270', 'image450': 'https://www.sephora.com/productimages/sku/s2637510-main-zoom.jpg?imwidth=270', 'altImage': 'https://www.sephora.com/productimages/sku/s2637510-av-2-zoom.jpg?imwidth=270', 'moreColors': 20, 'onSaleData': 'NONE', 'pickupEligible': False, 'productId': 'P504297', 'productName': 'Unlocked™ Satin Crème Lipstick', 'rating': '4.5667', 'reviews': '210', 'sameDayEligible': False, 'shipToHomeEligible': False, 'targetUrl': 'https://www.sephora.com/product/hourglass-unlocked-tm-satin-creme-lipstick-P504297?skuId=2637510', 'sponsored': False}, {'brandName': 'Gucci', 'currentSku': {'imageAltText': 'Gucci - Sheer Lipstick', 'isAppExclusive': False, 'isBI': False, 'isBest': False, 'isFirstAccess': False, 'isLimitedEdition': False, 'isLimitedTimeOffer': False, 'isNatural': False, 'isNew': False, 'isOnlineOnly': False, 'isOrganic': False, 'isSephoraExclusive': False, 'listPrice': '$45.00 - $47.00', 'skuId': '2660140', 'skuType': 'Standard'}, 'displayName': 'Sheer Lipstick', 'heroImage': 'https://www.sephora.com/productimages/sku/s2660140-main-zoom.jpg?imwidth=270', 'image135': 'https://www.sephora.com/productimages/sku/s2660140-main-zoom.jpg?imwidth=270', 'image250': 'https://www.sephora.com/productimages/sku/s2660140-main-zoom.jpg?imwidth=270', 'image450': 'https://www.sephora.com/productimages/sku/s2660140-main-zoom.jpg?imwidth=270', 'altImage': 'https://www.sephora.com/productimages/sku/s2660140-av-2-zoom.jpg?imwidth=270', 'moreColors': 5, 'onSaleData': 'NONE', 'pickupEligible': False, 'productId': 'P452737', 'productName': 'Sheer Lipstick', 'rating': '4.4201', 'reviews': '269', 'sameDayEligible': False, 'shipToHomeEligible': False, 'targetUrl': 'https://www.sephora.com/product/gucci-rouge-agrave-l-egrave-vres-voile-sheer-lipstick-P452737?skuId=2660140', 'sponsored': False}, {'brandName': 'bareMinerals', 'currentSku': {'imageAltText': 'bareMinerals - Mineralist Hydra-Smoothing Lipstick', 'isAppExclusive': False, 'isBI': False, 'isBest': False, 'isFirstAccess': False, 'isLimitedEdition': False, 'isLimitedTimeOffer': False, 'isNatural': False, 'isNew': False, 'isOnlineOnly': False, 'isOrganic': False, 'isSephoraExclusive': False, 'listPrice': '$22.00', 'skuId': '2302487', 'skuType': 'Standard'}, 'displayName': 'Mineralist Hydra-Smoothing Lipstick', 'heroImage': 'https://www.sephora.com/productimages/sku/s2302487-main-zoom.jpg?imwidth=270&pb=clean-at-sephora', 'image135': 'https://www.sephora.com/productimages/sku/s2302487-main-zoom.jpg?imwidth=270&pb=clean-at-sephora', 'image250': 'https://www.sephora.com/productimages/sku/s2302487-main-zoom.jpg?imwidth=270&pb=clean-at-sephora', 'image450': 'https://www.sephora.com/productimages/sku/s2302487-main-zoom.jpg?imwidth=270&pb=clean-at-sephora', 'altImage': 'https://www.sephora.com/productimages/sku/s2302487-av-12-zoom.jpg?imwidth=270', 'moreColors': 11, 'onSaleData': 'NONE', 'pickupEligible': False, 'productId': 'P455324', 'productName': 'Mineralist Hydra-Smoothing Lipstick', 'rating': '4.4532', 'reviews': '1882', 'sameDayEligible': False, 'shipToHomeEligible': False, 'targetUrl': 'https://www.sephora.com/product/bareminerals-mineralist-hydra-smoothing-lipstick-P455324?skuId=2302487', 'sponsored': False}, {'brandName': 'Yves Saint Laurent', 'currentSku': {'imageAltText': 'Yves Saint Laurent - Candy Glaze Lip Gloss Stick', 'isAppExclusive': False, 'isBI': False, 'isBest': False, 'isFirstAccess': False, 'isLimitedEdition': False, 'isLimitedTimeOffer': False, 'isNatural': False, 'isNew': False, 'isOnlineOnly': False, 'isOrganic': False, 'isSephoraExclusive': False, 'listPrice': '$42.00', 'skuId': '2511335', 'skuType': 'Standard'}, 'displayName': 'Candy Glaze Lip Gloss Stick', 'heroImage': 'https://www.sephora.com/productimages/sku/s2511335-main-zoom.jpg?imwidth=270', 'image135': 'https://www.sephora.com/productimages/sku/s2511335-main-zoom.jpg?imwidth=270', 'image250': 'https://www.sephora.com/productimages/sku/s2511335-main-zoom.jpg?imwidth=270', 'image450': 'https://www.sephora.com/productimages/sku/s2511335-main-zoom.jpg?imwidth=270', 'altImage': 'https://www.sephora.com/productimages/sku/s2511335-av-10-zoom.jpg?imwidth=270', 'moreColors': 11, 'onSaleData': 'NONE', 'pickupEligible': False, 'productId': 'P480000', 'productName': 'Candy Glaze Lip Gloss Stick', 'rating': '4.5162', 'reviews': '2383', 'sameDayEligible': False, 'shipToHomeEligible': False, 'targetUrl': 'https://www.sephora.com/product/yves-saint-laurent-candy-glaze-lip-gloss-stick-P480000?skuId=2511335', 'sponsored': False}, {'brandName': 'ROSE INC', 'currentSku': {'imageAltText': 'ROSE INC - Satin Lip Color Refillable Hydrating Lipstick', 'isAppExclusive': False, 'isBI': False, 'isBest': False, 'isFirstAccess': False, 'isLimitedEdition': False, 'isLimitedTimeOffer': False, 'isNatural': False, 'isNew': False, 'isOnlineOnly': False, 'isOrganic': False, 'isSephoraExclusive': True, 'listPrice': '$18.00 - $28.00', 'salePrice': '$18.00', 'skuId': '2529329', 'skuType': 'Standard'}, 'displayName': 'Satin Lip Color Refillable Hydrating Lipstick', 'heroImage': 'https://www.sephora.com/productimages/sku/s2529329-main-zoom.jpg?imwidth=270&pb=clean-planet-positive-badge-2021', 'image135': 'https://www.sephora.com/productimages/sku/s2529329-main-zoom.jpg?imwidth=270&pb=clean-planet-positive-badge-2021', 'image250': 'https://www.sephora.com/productimages/sku/s2529329-main-zoom.jpg?imwidth=270&pb=clean-planet-positive-badge-2021', 'image450': 'https://www.sephora.com/productimages/sku/s2529329-main-zoom.jpg?imwidth=270&pb=clean-planet-positive-badge-2021', 'altImage': 'https://www.sephora.com/productimages/sku/s2529329-av-01-zoom.jpg?imwidth=270', 'moreColors': 9, 'onSaleData': 'NONE', 'pickupEligible': False, 'productId': 'P482730', 'productName': 'Satin Lip Color Refillable Hydrating Lipstick', 'rating': '4.6572', 'reviews': '423', 'sameDayEligible': False, 'shipToHomeEligible': False, 'targetUrl': 'https://www.sephora.com/product/rose-inc-satin-lip-color-refillable-hydrating-lipstick-P482730?skuId=2529329', 'sponsored': False}, {'brandName': 'MAKEUP BY MARIO', 'currentSku': {'imageAltText': 'MAKEUP BY MARIO - Ultra Suede® Lipstick', 'isAppExclusive': False, 'isBI': False, 'isBest': False, 'isFirstAccess': False, 'isLimitedEdition': False, 'isLimitedTimeOffer': False, 'isNatural': False, 'isNew': False, 'isOnlineOnly': False, 'isOrganic': False, 'isSephoraExclusive': True, 'listPrice': '$28.00', 'skuId': '2502433', 'skuType': 'Standard'}, 'displayName': 'Ultra Suede® Lipstick', 'heroImage': 'https://www.sephora.com/productimages/sku/s2502433-main-zoom.jpg?imwidth=270', 'image135': 'https://www.sephora.com/productimages/sku/s2502433-main-zoom.jpg?imwidth=270', 'image250': 'https://www.sephora.com/productimages/sku/s2502433-main-zoom.jpg?imwidth=270', 'image450': 'https://www.sephora.com/productimages/sku/s2502433-main-zoom.jpg?imwidth=270', 'altImage': 'https://www.sephora.com/productimages/sku/s2502433-av-15-zoom.jpg?imwidth=270', 'moreColors': 19, 'onSaleData': 'NONE', 'pickupEligible': False, 'productId': 'P477837', 'productName': 'Ultra Suede® Lipstick', 'rating': '4.1658', 'reviews': '193', 'sameDayEligible': False, 'shipToHomeEligible': False, 'targetUrl': 'https://www.sephora.com/product/makeup-by-mario-ultra-suede-lipstick-P477837?skuId=2502433', 'sponsored': False}, {'brandName': 'Armani Beauty', 'currentSku': {'imageAltText': 'Armani Beauty - Lip Maestro Liquid Matte Lipstick', 'isAppExclusive': False, 'isBI': False, 'isBest': False, 'isFirstAccess': False, 'isLimitedEdition': False, 'isLimitedTimeOffer': False, 'isNatural': False, 'isNew': False, 'isOnlineOnly': False, 'isOrganic': False, 'isSephoraExclusive': False, 'listPrice': '$45.00', 'salePrice': '$22.50', 'skuId': '2283182', 'skuType': 'Standard'}, 'displayName': 'Lip Maestro Liquid Matte Lipstick', 'heroImage': 'https://www.sephora.com/productimages/sku/s2283182-main-zoom.jpg?imwidth=270', 'image135': 'https://www.sephora.com/productimages/sku/s2283182-main-zoom.jpg?imwidth=270', 'image250': 'https://www.sephora.com/productimages/sku/s2283182-main-zoom.jpg?imwidth=270', 'image450': 'https://www.sephora.com/productimages/sku/s2283182-main-zoom.jpg?imwidth=270', 'altImage': 'https://www.sephora.com/productimages/sku/s2283182-av-01-zoom.jpg?imwidth=270', 'moreColors': 1, 'onSaleData': 'FULL', 'pickupEligible': False, 'productId': 'P393411', 'productName': 'Lip Maestro Liquid Matte Lipstick', 'rating': '4.3647', 'reviews': '1985', 'sameDayEligible': False, 'shipToHomeEligible': False, 'targetUrl': 'https://www.sephora.com/product/lip-maestro-liquid-lipstick-P393411?skuId=2283182', 'sponsored': False}, {'brandName': 'Anastasia Beverly Hills', 'currentSku': {'imageAltText': 'Anastasia Beverly Hills - Smudge-Proof Matte Liquid Lipstick', 'isAppExclusive': False, 'isBI': False, 'isBest': False, 'isFirstAccess': False, 'isLimitedEdition': False, 'isLimitedTimeOffer': False, 'isNatural': False, 'isNew': False, 'isOnlineOnly': False, 'isOrganic': False, 'isSephoraExclusive': False, 'listPrice': '$20.00', 'skuId': '2036408', 'skuType': 'Standard'}, 'displayName': 'Smudge-Proof Matte Liquid Lipstick', 'heroImage': 'https://www.sephora.com/productimages/sku/s2036408-main-zoom.jpg?imwidth=270', 'image135': 'https://www.sephora.com/productimages/sku/s2036408-main-zoom.jpg?imwidth=270', 'image250': 'https://www.sephora.com/productimages/sku/s2036408-main-zoom.jpg?imwidth=270', 'image450': 'https://www.sephora.com/productimages/sku/s2036408-main-zoom.jpg?imwidth=270', 'altImage': 'https://www.sephora.com/productimages/sku/s2036408-av-01-zoom.jpg?imwidth=270', 'moreColors': 15, 'onSaleData': 'NONE', 'pickupEligible': False, 'productId': 'P404831', 'productName': 'Smudge-Proof Matte Liquid Lipstick', 'rating': '3.824', 'reviews': '4300', 'sameDayEligible': False, 'shipToHomeEligible': False, 'targetUrl': 'https://www.sephora.com/product/liquid-lipstick-P404831?skuId=2036408', 'sponsored': False}, {'brandName': 'MAKE UP FOR EVER', 'currentSku': {'imageAltText': 'MAKE UP FOR EVER - Rouge Artist Lipstick', 'isAppExclusive': False, 'isBI': False, 'isBest': False, 'isFirstAccess': False, 'isLimitedEdition': False, 'isLimitedTimeOffer': False, 'isNatural': False, 'isNew': False, 'isOnlineOnly': False, 'isOrganic': False, 'isSephoraExclusive': True, 'listPrice': '$25.00', 'salePrice': '$17.50', 'skuId': '2312858', 'skuType': 'Standard'}, 'displayName': 'Rouge Artist Lipstick', 'heroImage': 'https://www.sephora.com/productimages/sku/s2312858-main-zoom.jpg?imwidth=270', 'image135': 'https://www.sephora.com/productimages/sku/s2312858-main-zoom.jpg?imwidth=270', 'image250': 'https://www.sephora.com/productimages/sku/s2312858-main-zoom.jpg?imwidth=270', 'image450': 'https://www.sephora.com/productimages/sku/s2312858-main-zoom.jpg?imwidth=270', 'altImage': 'https://www.sephora.com/productimages/sku/s2312858-av-02-zoom.jpg?imwidth=270', 'moreColors': 10, 'onSaleData': 'NONE', 'pickupEligible': False, 'productId': 'P462883', 'productName': 'Rouge Artist Lipstick', 'rating': '4.4251', 'reviews': '581', 'sameDayEligible': False, 'shipToHomeEligible': False, 'targetUrl': 'https://www.sephora.com/product/make-up-for-ever-rouge-artist-lipstick-P462883?skuId=2312858', 'sponsored': False}, {'brandName': 'NARS', 'currentSku': {'imageAltText': 'NARS - Afterglow Sensual Shine Hydrating Lipstick', 'isAppExclusive': False, 'isBI': False, 'isBest': False, 'isFirstAccess': False, 'isLimitedEdition': False, 'isLimitedTimeOffer': False, 'isNatural': False, 'isNew': False, 'isOnlineOnly': False, 'isOrganic': False, 'isSephoraExclusive': False, 'listPrice': '$32.00', 'skuId': '2740322', 'skuType': 'Standard'}, 'displayName': 'Afterglow Sensual Shine Hydrating Lipstick', 'heroImage': 'https://www.sephora.com/productimages/sku/s2740322-main-zoom.jpg?imwidth=270', 'image135': 'https://www.sephora.com/productimages/sku/s2740322-main-zoom.jpg?imwidth=270', 'image250': 'https://www.sephora.com/productimages/sku/s2740322-main-zoom.jpg?imwidth=270', 'image450': 'https://www.sephora.com/productimages/sku/s2740322-main-zoom.jpg?imwidth=270', 'altImage': 'https://www.sephora.com/productimages/sku/s2740322-av-2-zoom.jpg?imwidth=270', 'moreColors': 14, 'onSaleData': 'NONE', 'pickupEligible': False, 'productId': 'P505364', 'productName': 'Afterglow Sensual Shine Hydrating Lipstick', 'rating': '3.9347', 'reviews': '199', 'sameDayEligible': False, 'shipToHomeEligible': False, 'targetUrl': 'https://www.sephora.com/product/nars-afterglow-sensual-shine-lipstick-P505364?skuId=2740322', 'sponsored': False}, {'brandName': 'Fenty Beauty by Rihanna', 'currentSku': {'imageAltText': 'Fenty Beauty by Rihanna - Fenty Icon The Fill Semi-Matte Refillable Lipstick', 'isAppExclusive': False, 'isBI': False, 'isBest': False, 'isFirstAccess': False, 'isLimitedEdition': True, 'isLimitedTimeOffer': False, 'isNatural': False, 'isNew': False, 'isOnlineOnly': False, 'isOrganic': False, 'isSephoraExclusive': False, 'listPrice': '$12.00 - $20.00', 'skuId': '2656205', 'skuType': 'Standard'}, 'displayName': 'Fenty Icon The Fill Semi-Matte Refillable Lipstick', 'heroImage': 'https://www.sephora.com/productimages/sku/s2656205-main-zoom.jpg?imwidth=270', 'image135': 'https://www.sephora.com/productimages/sku/s2656205-main-zoom.jpg?imwidth=270', 'image250': 'https://www.sephora.com/productimages/sku/s2656205-main-zoom.jpg?imwidth=270', 'image450': 'https://www.sephora.com/productimages/sku/s2656205-main-zoom.jpg?imwidth=270', 'altImage': 'https://www.sephora.com/productimages/sku/s2656205-av-2-zoom.jpg?imwidth=270', 'moreColors': 21, 'onSaleData': 'NONE', 'pickupEligible': False, 'productId': 'P480303', 'productName': 'Fenty Icon The Fill Semi-Matte Refillable Lipstick', 'rating': '4.3158', 'reviews': '418', 'sameDayEligible': False, 'shipToHomeEligible': False, 'targetUrl': 'https://www.sephora.com/product/fenty-beauty-rihanna-icon-refillable-semi-matte-lipstick-P480303?skuId=2656205', 'sponsored': False}, {'brandName': 'SEPHORA COLLECTION', 'currentSku': {'imageAltText': 'SEPHORA COLLECTION - Soft Matte & Easy Liquid Lipstick', 'isAppExclusive': False, 'isBI': False, 'isBest': False, 'isFirstAccess': False, 'isLimitedEdition': False, 'isLimitedTimeOffer': False, 'isNatural': False, 'isNew': False, 'isOnlineOnly': False, 'isOrganic': False, 'isSephoraExclusive': True, 'listPrice': '$15.00', 'skuId': '2667129', 'skuType': 'Standard'}, 'displayName': 'Soft Matte & Easy Liquid Lipstick', 'heroImage': 'https://www.sephora.com/productimages/sku/s2667129-main-zoom.jpg?imwidth=270&pb=2023-03-sephora-value-2023', 'image135': 'https://www.sephora.com/productimages/sku/s2667129-main-zoom.jpg?imwidth=270&pb=2023-03-sephora-value-2023', 'image250': 'https://www.sephora.com/productimages/sku/s2667129-main-zoom.jpg?imwidth=270&pb=2023-03-sephora-value-2023', 'image450': 'https://www.sephora.com/productimages/sku/s2667129-main-zoom.jpg?imwidth=270&pb=2023-03-sephora-value-2023', 'altImage': 'https://www.sephora.com/productimages/sku/s2667129-av-2-zoom.jpg?imwidth=270', 'moreColors': 9, 'onSaleData': 'NONE', 'pickupEligible': False, 'productId': 'P506541', 'productName': 'Soft Matte & Easy Liquid Lipstick', 'rating': '4.5577', 'reviews': '407', 'sameDayEligible': False, 'shipToHomeEligible': False, 'targetUrl': 'https://www.sephora.com/product/soft-matte-easy-liqud-lipstick-P506541?skuId=2667129', 'sponsored': False}, {'brandName': 'TOM FORD', 'currentSku': {'imageAltText': 'TOM FORD - Lip Color Lipstick', 'isAppExclusive': False, 'isBI': False, 'isBest': False, 'isFirstAccess': False, 'isLimitedEdition': False, 'isLimitedTimeOffer': False, 'isNatural': False, 'isNew': False, 'isOnlineOnly': False, 'isOrganic': False, 'isSephoraExclusive': False, 'listPrice': '$59.00', 'skuId': '1917244', 'skuType': 'Standard'}, 'displayName': 'Lip Color Lipstick', 'heroImage': 'https://www.sephora.com/productimages/sku/s1917244-main-zoom.jpg?imwidth=270', 'image135': 'https://www.sephora.com/productimages/sku/s1917244-main-zoom.jpg?imwidth=270', 'image250': 'https://www.sephora.com/productimages/sku/s1917244-main-zoom.jpg?imwidth=270', 'image450': 'https://www.sephora.com/productimages/sku/s1917244-main-zoom.jpg?imwidth=270', 'altImage': 'https://www.sephora.com/productimages/sku/s1917244-av-01-zoom.jpg?imwidth=270', 'moreColors': 7, 'onSaleData': 'NONE', 'pickupEligible': False, 'productId': 'P416057', 'productName': 'Lip Color Lipstick', 'rating': '4.5759', 'reviews': '856', 'sameDayEligible': False, 'shipToHomeEligible': False, 'targetUrl': 'https://www.sephora.com/product/lip-color-P416057?skuId=1917244', 'sponsored': False}, {'brandName': 'LYS Beauty', 'currentSku': {'imageAltText': 'LYS Beauty - Speak Love Moisture Matte Lipstick', 'isAppExclusive': False, 'isBI': False, 'isBest': False, 'isFirstAccess': False, 'isLimitedEdition': False, 'isLimitedTimeOffer': False, 'isNatural': False, 'isNew': False, 'isOnlineOnly': True, 'isOrganic': False, 'isSephoraExclusive': True, 'listPrice': '$20.00', 'skuId': '2654986', 'skuType': 'Standard'}, 'displayName': 'Speak Love Moisture Matte Lipstick', 'heroImage': 'https://www.sephora.com/productimages/sku/s2654986-main-zoom.jpg?imwidth=270&pb=clean-at-sephora', 'image135': 'https://www.sephora.com/productimages/sku/s2654986-main-zoom.jpg?imwidth=270&pb=clean-at-sephora', 'image250': 'https://www.sephora.com/productimages/sku/s2654986-main-zoom.jpg?imwidth=270&pb=clean-at-sephora', 'image450': 'https://www.sephora.com/productimages/sku/s2654986-main-zoom.jpg?imwidth=270&pb=clean-at-sephora', 'altImage': 'https://www.sephora.com/productimages/sku/s2654986-av-2-zoom.jpg?imwidth=270', 'moreColors': 6, 'onSaleData': 'NONE', 'pickupEligible': False, 'productId': 'P503938', 'productName': 'Speak Love Moisture Matte Lipstick', 'rating': '4.5906', 'reviews': '149', 'sameDayEligible': False, 'shipToHomeEligible': False, 'targetUrl': 'https://www.sephora.com/product/lys-beauty-speak-love-lipstick-collection-P503938?skuId=2654986', 'sponsored': False}, {'brandName': 'Yves Saint Laurent', 'currentSku': {'imageAltText': 'Yves Saint Laurent - Rouge Pur Couture Caring Satin Lipstick with Ceramides', 'isAppExclusive': False, 'isBI': False, 'isBest': False, 'isFirstAccess': False, 'isLimitedEdition': False, 'isLimitedTimeOffer': False, 'isNatural': False, 'isNew': False, 'isOnlineOnly': False, 'isOrganic': False, 'isSephoraExclusive': False, 'listPrice': '$48.00', 'skuId': '2695971', 'skuType': 'Standard'}, 'displayName': 'Rouge Pur Couture Caring Satin Lipstick with Ceramides', 'heroImage': 'https://www.sephora.com/productimages/sku/s2695971-main-zoom.jpg?imwidth=270', 'image135': 'https://www.sephora.com/productimages/sku/s2695971-main-zoom.jpg?imwidth=270', 'image250': 'https://www.sephora.com/productimages/sku/s2695971-main-zoom.jpg?imwidth=270', 'image450': 'https://www.sephora.com/productimages/sku/s2695971-main-zoom.jpg?imwidth=270', 'altImage': 'https://www.sephora.com/productimages/sku/s2695971-av-5-zoom.jpg?imwidth=270', 'moreColors': 14, 'onSaleData': 'NONE', 'pickupEligible': False, 'productId': 'P400701', 'productName': 'Rouge Pur Couture Caring Satin Lipstick with Ceramides', 'rating': '4.5769', 'reviews': '1144', 'sameDayEligible': False, 'shipToHomeEligible': False, 'targetUrl': 'https://www.sephora.com/product/rouge-pur-couture-lipstick-collection-P400701?skuId=2695971', 'sponsored': False}], 'filters': [{}, {'filterKey': 'Color Family', 'filterValues': ['Red', 'Berry', 'Pink', 'Nude', 'Coral', 'Brown', 'Unconventional', 'Orange', 'Purple', 'Universal', 'Multi', 'White', 'Gold', 'Black', 'Clear']}, {}, {'filterKey': 'Brand', 'filterValues': ['SEPHORA COLLECTION', 'Anastasia Beverly Hills', 'Rare Beauty by Selena Gomez', 'MAKEUP BY MARIO', 'Charlotte Tilbury', 'NARS', 'MERIT', 'PAT McGRATH LABS', 'Glossier', 'Dior', 'CLINIQUE', 'Yves Saint Laurent', 'Too Faced', 'PATRICK TA', 'Urban Decay', 'Kulfi', 'HUDA BEAUTY', 'Hourglass', 'Gucci', 'bareMinerals', 'ROSE INC', 'Armani Beauty', 'MAKE UP FOR EVER', 'Fenty Beauty by Rihanna', 'TOM FORD', 'LYS Beauty', 'Freck Beauty', 'Prada Beauty', 'Artist Couture', 'ILIA', 'Givenchy', 'tarte', 'Valentino', 'Lancôme', 'LAWLESS', 'Natasha Denona', 'Fashion Fair', 'Saie', 'HAUS LABS BY LADY GAGA', 'Kosas', 'KVD Beauty', 'Bobbi Brown', 'Westman Atelier', 'GXVE BY GWEN STEFANI', 'Tatcha', 'Supergoop!', 'MILK MAKEUP', 'Danessa Myricks Beauty', 'Laura Mercier', 'GUERLAIN', 'Melt Cosmetics', 'Ami Colé', 'Sephora Favorites', 'SIMIHAZE BEAUTY', 'IrisRomeo', 'ONESIZE by Patrick Starrr', 'Kaja', 'REFY', 'Smile Makers', 'NUDESTIX', 'Juliette Has a Gun', 'KAYALI', 'fresh']}, {'filterKey': 'Concerns', 'filterValues': ['Fine linesWrinkles', 'Dryness', 'Dullness', 'Uneven texture', 'Loss of firmnessElasticity', 'Puffiness']}, {'filterKey': 'Finish', 'filterValues': ['High Shine', 'Matte', 'Satin', 'Natural', 'Shimmer', 'Metallic', 'Radiant', 'Sheer']}, {'filterKey': 'isNew', 'filterValues': ['true']}, {'filterKey': 'on_sale', 'filterValues': ['true']}, {'filterKey': 'Benefits', 'filterValues': ['Hydrating', 'Long-wearing', 'Transfer-resistant', 'Plumping', 'Transfer-proof', 'Waterproof']}, {'filterKey': 'Ingredient Preferences', 'filterValues': ['Paraben-free', 'Vegan', 'Cruelty-Free', 'Clean at Sephora', 'Sulfate-free', 'Silicone Free', 'Alcohol Free', 'Antioxidants', 'Mineral', 'Hyaluronic Acid', 'Fragrance Free', 'Squalane', 'Vitamin C', 'Oil-free', 'Niacinamide', 'Peptides', 'Zinc', 'Mineral Physical', 'Hydroquinone', 'Retinoid', 'Naturally Derived', 'Water-Resistant', 'Multiple SpeedsIntensities', 'Medical-Grade Silicone']}, {'filterKey': 'shoppingPreference', 'filterValues': ['Only at Sephora', 'Black-Owned Brands', 'Best of Allure', 'Luxury Makeup', 'Luxury Beauty', 'FSAHSA Eligible']}, {'filterKey': 'Formulation', 'filterValues': ['Liquid', 'Stick', 'Cream', 'Rollerball']}, {'filterKey': 'sizeRefinement', 'filterValues': ['Mini', 'Refill', 'Value']}, {'filterKey': 'Coverage', 'filterValues': ['Full', 'Sheer', 'Medium', 'Light']}, {'filterKey': 'Skin Type', 'filterValues': ['Normal', 'Dry', 'Oily', 'Combination']}, {'filterKey': 'Age Range', 'filterValues': ['20s', '30s', '40s', '50s']}, {'filterKey': 'sunProtections', 'filterValues': ['SPF 30 and under', 'SPF over 30']}, {}, {'filterKey': 'cosmeticType', 'filterValues': ['Vibrators']}, {'filterKey': 'Fragrance Family', 'filterValues': ['Warm Spicy', 'Floral']}, {'filterKey': 'fragranceType', 'filterValues': ['Powdery Florals']}]}\n"
     ]
    }
   ],
   "source": [
    "import requests\n",
    "\n",
    "url = \"https://sephora14.p.rapidapi.com/searchByKeyword\"\n",
    "\n",
    "querystring = {\"search\":\"lipstick\",\"sortBy\":\"NEW\",\"page\":\"1\"}\n",
    "\n",
    "headers = {\n",
    "\t\"X-RapidAPI-Key\": \"64bf397be2msh4f1d00e055699dep148644jsnecf43e9edee8\",\n",
    "\t\"X-RapidAPI-Host\": \"sephora14.p.rapidapi.com\"\n",
    "}\n",
    "\n",
    "response = requests.get(url, headers=headers, params=querystring)\n",
    "\n",
    "print(response.json())\n"
   ]
  },
  {
   "cell_type": "code",
   "execution_count": 20,
   "metadata": {
    "id": "Rspp_FxgEkgw"
   },
   "outputs": [],
   "source": [
    "import re\n",
    "\n",
    "def extract_textures(product_name, texture_keywords):\n",
    "    # Check for valid inputs\n",
    "    if not product_name or not texture_keywords:\n",
    "        return []\n",
    "\n",
    "    # Create a regular expression pattern that matches any of the texture keywords\n",
    "    pattern = re.compile(r'(' + '|'.join([re.escape(keyword) for keyword in texture_keywords]) + r')', re.IGNORECASE)\n",
    "\n",
    "    # Initialize an empty set to store unique texture matches\n",
    "    textures = set()\n",
    "\n",
    "    # Find all matches of texture keywords in the product name\n",
    "    matches = pattern.findall(product_name)\n",
    "    textures.update([match.lower() for match in matches])  # Normalize to lower case for consistency\n",
    "\n",
    "    return list(textures)"
   ]
  },
  {
   "cell_type": "code",
   "execution_count": 21,
   "metadata": {
    "id": "HqsebmMrU6qA"
   },
   "outputs": [],
   "source": [
    "texture_map = {\n",
    "    'moist': ['Hydrating','Creamy', 'Sheer', 'Glossy' ,'Natural', 'Velvet','Shine'],\n",
    "    'dry': ['Matte', 'Velvet'],\n",
    "    'neutral': [ 'Creamy', 'Sheer', 'Natural', 'Velvet', 'Satin','Silk','Smoothing']\n",
    "}"
   ]
  },
  {
   "cell_type": "code",
   "execution_count": 22,
   "metadata": {
    "id": "bkmuNo0jX9dm"
   },
   "outputs": [],
   "source": [
    "conceal_map = {\n",
    "    'strong': ['Matte', 'Sheer', 'Velvet'],\n",
    "    'light': ['Hydrating', 'Sheer', 'Glossy', 'Natural'],\n",
    "    'neutral': ['Matte', 'Velvet', 'Satin', 'Creamy', 'Hydrating', 'Sheer', 'Glossy', 'Natural']\n",
    "}"
   ]
  },
  {
   "cell_type": "code",
   "execution_count": 23,
   "metadata": {
    "id": "ZPN9D7X9yUgd"
   },
   "outputs": [],
   "source": [
    "import re\n",
    "def extract_brand_texture(product_name, texture_keywords):\n",
    "    parts = product_name.split(' - ')\n",
    "    brand = parts[0].strip()\n",
    "    textures = []\n",
    "\n",
    "    pattern = re.compile(r'\\b(' + '|'.join(texture_keywords) + r')\\b', re.IGNORECASE)\n",
    "\n",
    "    for part in parts[1:]:\n",
    "        matches = pattern.findall(part)\n",
    "        textures.extend(matches)\n",
    "\n",
    "    return brand, list(set(textures))\n",
    "\n",
    "\n",
    "def extract_from_sentence(sentence, options, feedback={}):\n",
    "    for option, keywords in options.items():\n",
    "        for keyword in keywords:\n",
    "            if re.search(r'\\b{}\\b'.format(re.escape(keyword)), sentence, re.IGNORECASE):\n",
    "                print(feedback.get(option, \"\"))\n",
    "                return option\n",
    "    print(feedback.get('default', \"\"))\n",
    "    return 'Not specified'"
   ]
  },
  {
   "cell_type": "code",
   "execution_count": 33,
   "metadata": {
    "id": "3ki-FyDe7O-q"
   },
   "outputs": [],
   "source": [
    "\n",
    "def get_texture_preference():\n",
    "    texture_options = {\n",
    "        'dry': ['matte', 'dry'],\n",
    "        'moist': ['hydrating', 'moist', 'moisture'],\n",
    "        'neutral': ['balanced', 'neutral', 'natural']\n",
    "    }\n",
    "    texture_feedback = {\n",
    "        'dry': \"Our matte lipsticks offer a dry texture without the parched feeling.\",\n",
    "        'moist': \"Moisture is key! Let's get you a lipstick that offers a moist texture for that all-day hydration.\",\n",
    "        'neutral': \"Balance is beautiful. A natural texture lipstick will give you the best of both worlds.\",\n",
    "        'default': \"Let's aim for a balanced finish with a neutral texture.\"\n",
    "    }\n",
    "    response = input(\"Are you looking for a lipstick with a dry, moist, or natural finish? \")\n",
    "    return extract_from_sentence(response, texture_options, texture_feedback)\n",
    "\n",
    "def get_conceal_preference():\n",
    "    conceal_options = {\n",
    "        'strong': ['full coverage', 'opaque', 'strong'],\n",
    "        'light': ['sheer', 'tint', 'light'],\n",
    "        'neutral': ['natural', 'neutral']\n",
    "    }\n",
    "    conceal_feedback = {\n",
    "        'strong': \"Full coverage coming up! You'll get all the attention with our richly pigmented shades.\",\n",
    "        'light': \"A hint of color, I see. We'll keep it sheer.\",\n",
    "        'neutral': \"Natural it is. It's all about enhancing your inherent beauty subtly.\",\n",
    "        'default': \"Let's go with a natural look, offering a subtle enhancement.\"\n",
    "    }\n",
    "    response = input(\"Now, shall we go for a lipstick that provides strong coverage, or would you like to keep things light? \")\n",
    "    return extract_from_sentence(response, conceal_options, conceal_feedback)\n",
    "\n",
    "\n",
    "def get_price_limit():\n",
    "    response = input(\"To finish off, what price range are we considering for your ideal lipstick? \")\n",
    "    price_search = re.search(r'\\$?\\d+', response)\n",
    "    price = '$' + price_search.group(0) if price_search else 'Not specified'\n",
    "    print(f\"Got it, we'll look for options around {price}.\")\n",
    "    return price"
   ]
  },
  {
   "cell_type": "code",
   "execution_count": 34,
   "metadata": {
    "id": "wz0hepTqzEvn"
   },
   "outputs": [],
   "source": [
    "user_preferences = {}"
   ]
  },
  {
   "cell_type": "code",
   "execution_count": 35,
   "metadata": {
    "id": "jiKAJmM_TafS"
   },
   "outputs": [],
   "source": [
    "def pipeline(products, filters):\n",
    "    for f in filters:\n",
    "        #Apply filters\n",
    "        p = f(products)\n",
    "        if len(p) == 0:\n",
    "            return (products, True)\n",
    "        else:\n",
    "            products = p\n",
    "    return (products, False)"
   ]
  },
  {
   "cell_type": "code",
   "execution_count": 36,
   "metadata": {
    "id": "m38BTxlgT4zp"
   },
   "outputs": [],
   "source": [
    "def textureFilter(products):\n",
    "    if not 'texture' in user_preferences:\n",
    "        return products\n",
    "    res = []\n",
    "    for product in products:\n",
    "        brand, textures = extract_brand_texture(product['currentSku']['imageAltText'], texture_map[user_preferences['texture']])\n",
    "        if not len(textures) == 0:\n",
    "            res.append(product)\n",
    "    return res"
   ]
  },
  {
   "cell_type": "code",
   "execution_count": 37,
   "metadata": {
    "id": "d06pS5r0YjwJ"
   },
   "outputs": [],
   "source": [
    "def concealFilter(products):\n",
    "    if not 'conceal' in user_preferences:\n",
    "        return products\n",
    "    res = []\n",
    "    for product in products:\n",
    "        brand, conceals = extract_brand_texture(product['currentSku']['imageAltText'], conceal_map[user_preferences['conceal']])\n",
    "        if not len(conceals) == 0:\n",
    "            res.append(product)\n",
    "    return res"
   ]
  },
  {
   "cell_type": "code",
   "execution_count": 38,
   "metadata": {
    "id": "MW2yOFZyY82U"
   },
   "outputs": [],
   "source": [
    "def priceFilter(products):\n",
    "    if not 'price' in user_preferences:\n",
    "        return products\n",
    "    res = []\n",
    "    for product in products:\n",
    "        listPrice = product['currentSku']['listPrice']\n",
    "        if '-' in listPrice:\n",
    "            listPrice = listPrice.split('-')[1].strip()\n",
    "        if float(listPrice[1:]) <= float(user_preferences['price'][1:]):\n",
    "            res.append(product)\n",
    "    return res"
   ]
  },
  {
   "cell_type": "code",
   "execution_count": 39,
   "metadata": {
    "id": "7iM55RUiyGtV"
   },
   "outputs": [],
   "source": [
    "def main():\n",
    "    print(\"Good to know! Are you ready for a journey of beauty adventure? Let's find your ideal match.\")\n",
    "    global user_preferences\n",
    "    user_preferences = {\n",
    "        'texture': get_texture_preference(),\n",
    "        'conceal': get_conceal_preference(),\n",
    "        'price': get_price_limit(),\n",
    "    }\n",
    "\n",
    "    print(\"\\nBased on your preferences, here's what you indicated:\")\n",
    "    for pref, value in user_preferences.items():\n",
    "        print(f\"{pref.capitalize()}: {value}\")"
   ]
  },
  {
   "cell_type": "code",
   "execution_count": 40,
   "metadata": {
    "colab": {
     "base_uri": "https://localhost:8080/"
    },
    "id": "oBBDw56ty9Rx",
    "outputId": "7bf3ddaa-5f84-4c11-93f3-7410e5186e47"
   },
   "outputs": [
    {
     "name": "stdout",
     "output_type": "stream",
     "text": [
      "Good to know! Are you ready for a journey of beauty adventure? Let's find your ideal match.\n",
      "Are you looking for a lipstick with a dry, moist, or natural finish? dry\n",
      "Our matte lipsticks offer a dry texture without the parched feeling.\n",
      "Now, shall we go for a lipstick that provides strong coverage, or would you like to keep things light? light\n",
      "A hint of color, I see. We'll keep it sheer.\n",
      "To finish off, what price range are we considering for your ideal lipstick? 40\n",
      "Got it, we'll look for options around $40.\n",
      "\n",
      "Based on your preferences, here's what you indicated:\n",
      "Texture: dry\n",
      "Conceal: light\n",
      "Price: $40\n"
     ]
    }
   ],
   "source": [
    "main()"
   ]
  },
  {
   "cell_type": "code",
   "execution_count": 41,
   "metadata": {
    "id": "TWDM7yGHTLvS"
   },
   "outputs": [],
   "source": [
    "filters = [textureFilter, concealFilter, priceFilter]\n",
    "final_products, truncated = pipeline(response.json()['products'], filters)"
   ]
  },
  {
   "cell_type": "code",
   "execution_count": 42,
   "metadata": {
    "id": "Yr4Wu7mOWU1b"
   },
   "outputs": [],
   "source": [
    "final_products.sort(key=lambda x: float(x['rating']), reverse=True)\n",
    "first_five = final_products[:5]"
   ]
  },
  {
   "cell_type": "code",
   "execution_count": 43,
   "metadata": {
    "colab": {
     "base_uri": "https://localhost:8080/"
    },
    "id": "KpmLi4xw23y-",
    "outputId": "2c1f2c6f-a2ca-439c-a7f7-b6f9cebefa23"
   },
   "outputs": [
    {
     "name": "stdout",
     "output_type": "stream",
     "text": [
      "Top 5 Products:\n",
      "Name: ('Charlotte Tilbury', 'Matte Revolution Hydrating Lipstick'), Rating: 4.2417,Image: https://www.sephora.com/productimages/sku/s2736098-main-zoom.jpg?imwidth=270, link: https://www.sephora.com/product/matte-revolution-lipstick-P433530?skuId=2736098\n"
     ]
    }
   ],
   "source": [
    "print(\"Top 5 Products:\")\n",
    "for product in first_five:\n",
    "    print(f\"Name: {product['brandName'],product['productName']}, Rating: {product.get('rating', 'No rating')},Image: {product.get('heroImage')}, link: {product.get('targetUrl')}\")"
   ]
  },
  {
   "cell_type": "code",
   "execution_count": 45,
   "metadata": {
    "id": "rAC6j7Jn_WX8"
   },
   "outputs": [],
   "source": [
    "import requests\n",
    "\n",
    "url = \"https://sephora14.p.rapidapi.com/searchByKeyword\"\n",
    "\n",
    "headers = {\n",
    "    \"X-RapidAPI-Key\": \"64bf397be2msh4f1d00e055699dep148644jsnecf43e9edee8\",\n",
    "    \"X-RapidAPI-Host\": \"sephora14.p.rapidapi.com\"\n",
    "}"
   ]
  },
  {
   "cell_type": "code",
   "execution_count": 46,
   "metadata": {
    "id": "lgqdDWqP3isy"
   },
   "outputs": [],
   "source": [
    "specialEffects = []"
   ]
  },
  {
   "cell_type": "code",
   "execution_count": 52,
   "metadata": {
    "id": "ezKbw0meFYU5"
   },
   "outputs": [],
   "source": [
    "def get_special_effect_preference():\n",
    "    special_effect_options = {\n",
    "        'yes': ['yes','pigment', 'plumping', 'long-lasting', 'metallic', 'shimmer'],\n",
    "        'no': ['no', 'none']\n",
    "    }\n",
    "    special_effect_feedback = {\n",
    "        'yes': \"Great choice! Adding some flair to your look.\",\n",
    "        'no': \"Keeping it classic, I see. No special effects needed.\",\n",
    "        'default': \"We can decide on the special effects later.\"\n",
    "    }\n",
    "    response = input(\"To add some flair, are you interested in any special effects, like a high pigment punch, a plumping effect, something long-lasting, or perhaps a touch of metallic shimmer? \")\n",
    "    return 'yes' if 'yes' in extract_from_sentence(response, special_effect_options, special_effect_feedback).lower() else 'no'"
   ]
  },
  {
   "cell_type": "code",
   "execution_count": 58,
   "metadata": {
    "id": "LwHSGDJA_pNs"
   },
   "outputs": [
    {
     "name": "stdout",
     "output_type": "stream",
     "text": [
      "Happy Monday! Ready to start the week with a splash of color? Today's special is all about high-pigment lipsticks. They’re perfect for making that Monday meeting a bit more memorable. Shall I show you our most popular shades?\n",
      "Name: ('Danessa Myricks Beauty', 'Colorfix - Multi-Use Eye, Cheek & Lip Waterproof Liquid Pigment'), Rating: 4.3916,Image: https://www.sephora.com/productimages/sku/s2774354-main-zoom.jpg?imwidth=270, link: https://www.sephora.com/product/danessa-myricks-colorfix-24-hour-cream-color-P468353?skuId=2774354\n",
      "Name: ('HAUS LABS BY LADY GAGA', 'Hy-Power Eye, Cheek & Lip Pigment Paint'), Rating: 4.2383,Image: https://www.sephora.com/productimages/sku/s2755957-main-zoom.jpg?imwidth=270&pb=clean-at-sephora, link: https://www.sephora.com/product/hy-power-eye-cheek-lip-pigment-paint-P500298?skuId=2755957\n",
      "Name: ('Yves Saint Laurent', 'The Bold High Pigment Lipstick'), Rating: 4.5253,Image: https://www.sephora.com/productimages/sku/s2662294-main-zoom.jpg?imwidth=270, link: https://www.sephora.com/product/yves-saint-laurent-the-bold-high-pigment-lipstick-P501588?skuId=2662294\n"
     ]
    }
   ],
   "source": [
    "import datetime\n",
    "\n",
    "# Mapping of weekdays to special effects and their associated chatbot messages\n",
    "effect_and_message = {\n",
    "    0: ('pigment', \"Happy Monday! Ready to start the week with a splash of color? Today's special is all about high-pigment lipsticks. They’re perfect for making that Monday meeting a bit more memorable. Shall I show you our most popular shades?\"),\n",
    "    1: ('plumping', \"It’s Tuesday, and we’re all about that plump! Our lip plumping formulas are on special today. They give you that enviable full-lip look with each application. Interested in giving your lips a little Tuesday treat?\"),\n",
    "    2: ('long-lasting', \"Hello, Wednesday warrior! Our long-lasting lipsticks are on the frontline today. From your first coffee to your last call, we’ve got you covered. How about we find a color that sticks with you all day?\"),\n",
    "    3: ('metallic', \"Thrilling Thursday calls for a touch of metallic magic! Today we’re featuring lipsticks with a metallic finish to add some sparkle to your week. Ready to shine like the star you are?\"),\n",
    "    4: ('SPF', \"TGIF! Our Friday feature is SPF-infused lipsticks, because your lips need sun protection too. Heading out for a sunny weekend adventure? Let’s keep those lips protected and pretty.\"),\n",
    "    5: ('natural', \"Saturday’s style is natural and effortless. Today, we’re showcasing lipsticks that enhance your natural beauty. Perfect for a casual brunch or a relaxing day in. Shall we pick a shade that’s as easygoing as your Saturday?\"),\n",
    "    6: ('acid', \"Sundays are for self-care, and what's better than a rejuvenating acid-infused lipstick? They gently exfoliate, revealing smooth, soft lips for the week ahead. Would you like to end your week with a lip revival?\")\n",
    "}\n",
    "\n",
    "def get_daily_special_effect():\n",
    "    today = datetime.datetime.now().weekday()  # Monday is 0, Sunday is 6\n",
    "    effect, message = effect_and_message[today]\n",
    "    print(message)  # Print the message for today's special effect\n",
    "    return effect\n",
    "\n",
    "\n",
    "def specialEffectFilter(products):\n",
    "        res = []\n",
    "        for product in products:\n",
    "            brand, effects = extract_brand_texture(product['currentSku']['imageAltText'], specialEffects)\n",
    "            if not len(effects) == 0:\n",
    "                res.append(product)\n",
    "        return res\n",
    "\n",
    "def main():\n",
    "    global specialEffects\n",
    "    specialEffects = [get_daily_special_effect()]\n",
    "\n",
    "    # Apply the pipeline with the configured filter\n",
    "    special_effect_products, truncated = pipeline(response.json()['products'], [specialEffectFilter])\n",
    "\n",
    "    # Output or process the filtered products as needed\n",
    "    for product in special_effect_products:\n",
    "        print(f\"Name: {product['brandName'],product['productName']}, Rating: {product.get('rating', 'No rating')},Image: {product.get('heroImage')}, link: {product.get('targetUrl')}\")  # Adjust this to match how you want to display the products\n",
    "\n",
    "main()"
   ]
  },
  {
   "cell_type": "code",
   "execution_count": null,
   "metadata": {},
   "outputs": [],
   "source": []
  }
 ],
 "metadata": {
  "colab": {
   "provenance": []
  },
  "kernelspec": {
   "display_name": "Python 3 (ipykernel)",
   "language": "python",
   "name": "python3"
  },
  "language_info": {
   "codemirror_mode": {
    "name": "ipython",
    "version": 3
   },
   "file_extension": ".py",
   "mimetype": "text/x-python",
   "name": "python",
   "nbconvert_exporter": "python",
   "pygments_lexer": "ipython3",
   "version": "3.10.9"
  }
 },
 "nbformat": 4,
 "nbformat_minor": 1
}
